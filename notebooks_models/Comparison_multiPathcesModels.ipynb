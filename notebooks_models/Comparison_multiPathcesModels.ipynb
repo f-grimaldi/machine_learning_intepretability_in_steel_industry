{
 "cells": [
  {
   "cell_type": "markdown",
   "metadata": {},
   "source": [
    "# Evaluation of all the models to detect defects in steel sheet in images patches "
   ]
  },
  {
   "cell_type": "markdown",
   "metadata": {},
   "source": [
    "### 1. Requirments"
   ]
  },
  {
   "cell_type": "code",
   "execution_count": 23,
   "metadata": {},
   "outputs": [],
   "source": [
    "import pandas as pd\n",
    "import numpy as np\n",
    "import matplotlib.pyplot as plt\n",
    "\n",
    "import sys\n",
    "import os\n",
    "import time\n",
    "import cv2\n",
    "import torch\n",
    "\n",
    "sys.path.append('\\\\'.join(os.getcwd().split('\\\\')[:-1])+'\\\\src')\n",
    "import utils as c_utils\n",
    "import dataset as c_dataset\n",
    "\n",
    "from tqdm import tqdm\n",
    "from torchvision import models\n",
    "from torch import nn\n",
    "from torch.utils.data import dataloader\n",
    "from sklearn.metrics import (f1_score, \n",
    "                             accuracy_score, \n",
    "                             balanced_accuracy_score, \n",
    "                             confusion_matrix, \n",
    "                             roc_curve, \n",
    "                             auc, \n",
    "                             recall_score, \n",
    "                             precision_score)"
   ]
  },
  {
   "cell_type": "markdown",
   "metadata": {},
   "source": [
    "### 2. Parameters"
   ]
  },
  {
   "cell_type": "code",
   "execution_count": 31,
   "metadata": {},
   "outputs": [],
   "source": [
    "MODEL_PATHS = ['../model/MultiVanillaSlidedSqueeze.pth',\n",
    "               '../model/MultiVanillaSlidedSqueezeReduced8.pth',\n",
    "               '../model/MultiSlidedSqueezeReduced10.pth',\n",
    "               '../model/MultiVanillaSlidedWeightedSqueeze.pth',\n",
    "              ]\n",
    "\n",
    "IMAGE_PATH = '../data/train_images'\n",
    "DATA_PATH = '../data/multiData'\n",
    "METADATA_PATH = '../data/multiData/test_data.csv'\n",
    "\n",
    "INPUT_PATH = DATA_PATH + '/' + 'X_test.pth' \n",
    "LABEL_PATH = DATA_PATH + '/' + 'y_test.pth'\n",
    "MASK_PATH  = DATA_PATH + '/' + 'M_test.pth'"
   ]
  },
  {
   "cell_type": "code",
   "execution_count": 32,
   "metadata": {},
   "outputs": [
    {
     "data": {
      "text/plain": [
       "{'size': (64, 64),\n",
       " 'mask_size': (64, 64),\n",
       " 'mean': [0.485, 0.456, 0.406],\n",
       " 'std': [0.229, 0.224, 0.225],\n",
       " 'colors': [[0, 0.25, 0.25],\n",
       "  [0.25, 0.0, 0.0],\n",
       "  [0.0, 0.25, 0.0],\n",
       "  [0.0, 0.0, 0.25]]}"
      ]
     },
     "execution_count": 32,
     "metadata": {},
     "output_type": "execute_result"
    }
   ],
   "source": [
    "N_CLASSES = 5\n",
    "N_MODEL = len(MODEL_PATHS)\n",
    "params = c_utils.get_default_params()\n",
    "params['size'] = params['mask_size'] = (64, 64)\n",
    "device = torch.device('cuda')\n",
    "params"
   ]
  },
  {
   "cell_type": "markdown",
   "metadata": {},
   "source": [
    "### 3. Data\n",
    "#### 3.1 Load data\n",
    "Since retrieving all the batches using dataloader has been quite slow and created problem in Colab, a procedure to generate the full torch matrix (input, labels and masks) from the images should be performed to run this jupyter smoothly. If the INPUT, MASK and LABEL matrix are already present in the given paths we just load them\n"
   ]
  },
  {
   "cell_type": "code",
   "execution_count": 33,
   "metadata": {},
   "outputs": [],
   "source": [
    "### Check if the given paths exists\n",
    "if DATA_PATH.split('/')[1] not in os.listdir(DATA_PATH.split('/')[0]): # Create folder if it does not exists\n",
    "    os.mkdir(DATA_PATH) \n",
    "c1 = INPUT_PATH.split('/')[-1] in os.listdir(DATA_PATH)\n",
    "c2 = LABEL_PATH.split('/')[-1] in os.listdir(DATA_PATH)\n",
    "c3 = MASK_PATH.split('/')[-1] in os.listdir(DATA_PATH)"
   ]
  },
  {
   "cell_type": "code",
   "execution_count": 34,
   "metadata": {},
   "outputs": [
    {
     "name": "stdout",
     "output_type": "stream",
     "text": [
      "Data is present and ready to be loaded\n"
     ]
    }
   ],
   "source": [
    "### If the path are present we load the matrix, else we generate them\n",
    "if c1 and c2 and c3:\n",
    "    print('Data is present and ready to be loaded')\n",
    "    X_val, y_val, M_val = torch.load(INPUT_PATH), torch.load(LABEL_PATH), torch.load(MASK_PATH)\n",
    "else:\n",
    "    print('Starting process to create matrices...')\n",
    "    time.sleep(0.1)\n",
    "    X_val, y_val, M_val = c_utils.create_data(IMAGE_PATH, METADATA_PATH, \n",
    "                                              batch_size=200, num_workers=0, \n",
    "                                              return_mask=True, params=params)"
   ]
  },
  {
   "cell_type": "code",
   "execution_count": 35,
   "metadata": {},
   "outputs": [
    {
     "name": "stderr",
     "output_type": "stream",
     "text": [
      "49it [00:18,  2.68it/s]\n"
     ]
    }
   ],
   "source": [
    "def sliding_window(X, y, M, batch_size):\n",
    "    sliding = c_dataset.SlidingWindow(X, y, M)\n",
    "    X_slided = torch.empty((X.shape[0]*6, 3, 64, 64))\n",
    "    y_slided = torch.empty((X.shape[0]*6)).long()\n",
    "    M_slided = torch.empty((X.shape[0]*6, 64, 64)).long()\n",
    "    loader = dataloader.DataLoader(sliding, batch_size)\n",
    "\n",
    "    for n, batch in tqdm(enumerate(loader)):\n",
    "        X_batch, y_batch, M_batch = batch\n",
    "        bs = y_batch.shape[0]\n",
    "        X_slided[n*6*batch_size:n*6*batch_size + bs*6] = X_batch.view(bs*6, 3, 64, 64)\n",
    "        y_slided[n*6*batch_size:n*6*batch_size + bs*6] = y_batch.view(bs*6)\n",
    "        M_slided[n*6*batch_size:n*6*batch_size + bs*6] = M_batch.view(bs*6, 64, 64)\n",
    "    mean = X_slided.mean(axis=(1, 2, 3))\n",
    "    X_slided = X_slided[mean > -1.80]\n",
    "    y_slided = y_slided[mean > -1.80]\n",
    "    M_slided = M_slided[mean > -1.80]\n",
    "    return X_slided, y_slided, M_slided\n",
    "\n",
    "X_val, y_val, M_val = sliding_window(X_val, y_val, M_val, 50)"
   ]
  },
  {
   "cell_type": "code",
   "execution_count": 36,
   "metadata": {},
   "outputs": [
    {
     "name": "stderr",
     "output_type": "stream",
     "text": [
      "Clipping input data to the valid range for imshow with RGB data ([0..1] for floats or [0..255] for integers).\n",
      "Clipping input data to the valid range for imshow with RGB data ([0..1] for floats or [0..255] for integers).\n"
     ]
    },
    {
     "data": {
      "image/png": "[encoded data removed]",
      "text/plain": [
       "<Figure size 1440x504 with 3 Axes>"
      ]
     },
     "metadata": {
      "needs_background": "light"
     },
     "output_type": "display_data"
    }
   ],
   "source": [
    "#### 3.2 Visualize data\n",
    "n = 10\n",
    "\n",
    "fig, ax = plt.subplots(1, 3, figsize=(20, 7))\n",
    "img = np.transpose(X_val[n].numpy(), (1, 2, 0))*params['std'] + params['mean']\n",
    "mask = M_val[n].reshape(*params['size'])\n",
    "ax[0].set_title('ClassID: {}'.format(y_val[n]))\n",
    "ax[0].imshow(img)\n",
    "ax[1].imshow(mask, cmap='gray')\n",
    "img[mask == 1] = img[mask == 1] + params['colors'][y_val[n]]\n",
    "ax[2].imshow(img)\n",
    "plt.show()"
   ]
  },
  {
   "cell_type": "markdown",
   "metadata": {},
   "source": [
    "### 4. Model\n",
    "\n",
    "    a) Load SqueezeNet architecture\n",
    "    b) Modify the classifier architecture for each model\n",
    "    c) Load the parameters\n",
    "    d) Move model in GPU"
   ]
  },
  {
   "cell_type": "code",
   "execution_count": 37,
   "metadata": {},
   "outputs": [],
   "source": [
    "### 4.1 Load architecture\n",
    "nets = []\n",
    "for MODEL_PATH in MODEL_PATHS:\n",
    "    net = models.squeezenet1_1(pretrained=True)\n",
    "    if 'Reduced8' in MODEL_PATH:\n",
    "        net.features = net.features[:8]\n",
    "        net.classifier[1] = nn.Conv2d(256, 1000, kernel_size = (1, 1), stride = (1, 1))\n",
    "    elif 'Reduced' in MODEL_PATH:\n",
    "        net.features = net.features[:10]\n",
    "        net.classifier[1] = nn.Conv2d(384, 1000, kernel_size = (1, 1), stride = (1, 1))\n",
    "    \n",
    "    net.classifier = nn.Sequential(*net.classifier, nn.Flatten(), nn.Linear(1000, N_CLASSES))#, nn.Softmax(dim=1))\n",
    "    net = net.to(device)\n",
    "    net.load_state_dict(torch.load(MODEL_PATH))\n",
    "    nets.append(net)"
   ]
  },
  {
   "cell_type": "markdown",
   "metadata": {},
   "source": [
    "### 5. Evaluation\n",
    "\n",
    "    a) Compute the predicted labels and probabilities\n",
    "    b) Compute metrics\n",
    "    d) Plot ROC and Confusion Matrix"
   ]
  },
  {
   "cell_type": "code",
   "execution_count": 38,
   "metadata": {},
   "outputs": [
    {
     "name": "stderr",
     "output_type": "stream",
     "text": [
      "100%|████████████████████████████████████████████████████████████████████████████████| 214/214 [00:07<00:00, 30.16it/s]\n",
      "100%|████████████████████████████████████████████████████████████████████████████████| 214/214 [00:05<00:00, 42.45it/s]\n",
      "100%|████████████████████████████████████████████████████████████████████████████████| 214/214 [00:05<00:00, 42.03it/s]\n",
      "100%|████████████████████████████████████████████████████████████████████████████████| 214/214 [00:05<00:00, 40.26it/s]\n"
     ]
    }
   ],
   "source": [
    "ys_pred, ys_true, ys_score, times = [], [], [], []\n",
    "for net in nets:\n",
    "    \n",
    "    partial_time = time.time()\n",
    "    y_pred = []\n",
    "    y_true = []\n",
    "    y_score = torch.Tensor([])\n",
    "    batch_size = 60\n",
    "\n",
    "    with torch.no_grad():\n",
    "        net.eval()\n",
    "        for n in tqdm(range(X_val.shape[0]//batch_size)):\n",
    "            X, y = X_val[n*batch_size:(n+1)*batch_size].to(device), y_val[n*batch_size:(n+1)*batch_size].to(device).long()\n",
    "            out = net(X)\n",
    "            probs = nn.Softmax(dim=1)(out).detach().cpu()\n",
    "\n",
    "            y_score = torch.cat([y_score, probs])\n",
    "            y_pred = np.concatenate([y_pred, np.argmax(out.detach().cpu().numpy(), axis=1)])\n",
    "            y_true = np.concatenate([y_true, y.cpu().numpy()])\n",
    "        \n",
    "        X, y = X_val[(n+1)*batch_size:].to(device), y_val[(n+1)*batch_size:].to(device).long()\n",
    "        out = net(X)\n",
    "        probs = nn.Softmax(dim=1)(out).detach().cpu()\n",
    "\n",
    "        y_score = torch.cat([y_score, probs])\n",
    "        y_pred = np.concatenate([y_pred, np.argmax(out.detach().cpu().numpy(), axis=1)])\n",
    "        y_true = np.concatenate([y_true, y.cpu().numpy()])\n",
    "\n",
    "        \n",
    "\n",
    "    times.append((time.time()-partial_time)/(X_val.shape[0]//batch_size))\n",
    "    ys_true.append(y_true)\n",
    "    ys_pred.append(y_pred)\n",
    "    ys_score.append(y_score.numpy())"
   ]
  },
  {
   "cell_type": "code",
   "execution_count": 39,
   "metadata": {},
   "outputs": [
    {
     "data": {
      "text/html": [
       "<div>\n",
       "<style scoped>\n",
       "    .dataframe tbody tr th:only-of-type {\n",
       "        vertical-align: middle;\n",
       "    }\n",
       "\n",
       "    .dataframe tbody tr th {\n",
       "        vertical-align: top;\n",
       "    }\n",
       "\n",
       "    .dataframe thead th {\n",
       "        text-align: right;\n",
       "    }\n",
       "</style>\n",
       "<table border=\"1\" class=\"dataframe\">\n",
       "  <thead>\n",
       "    <tr style=\"text-align: right;\">\n",
       "      <th></th>\n",
       "      <th>Accuracy</th>\n",
       "      <th>Balanced Accuracy</th>\n",
       "      <th>F1 (macro)</th>\n",
       "      <th>F1 (weighted)</th>\n",
       "      <th>Metric Average</th>\n",
       "      <th>Evaluation time (second/BatchSize)</th>\n",
       "    </tr>\n",
       "  </thead>\n",
       "  <tbody>\n",
       "    <tr>\n",
       "      <th>VanillaSlidedSqueeze</th>\n",
       "      <td>0.880</td>\n",
       "      <td>0.482</td>\n",
       "      <td>0.537</td>\n",
       "      <td>0.871</td>\n",
       "      <td>0.692</td>\n",
       "      <td>0.033</td>\n",
       "    </tr>\n",
       "    <tr>\n",
       "      <th>VanillaSlidedSqueezeReduced8</th>\n",
       "      <td>0.899</td>\n",
       "      <td>0.657</td>\n",
       "      <td>0.690</td>\n",
       "      <td>0.896</td>\n",
       "      <td>0.786</td>\n",
       "      <td>0.024</td>\n",
       "    </tr>\n",
       "    <tr>\n",
       "      <th>SlidedSqueezeReduced10</th>\n",
       "      <td>0.905</td>\n",
       "      <td>0.691</td>\n",
       "      <td>0.714</td>\n",
       "      <td>0.902</td>\n",
       "      <td>0.803</td>\n",
       "      <td>0.024</td>\n",
       "    </tr>\n",
       "    <tr>\n",
       "      <th>VanillaSlidedWeightedSqueeze</th>\n",
       "      <td>0.807</td>\n",
       "      <td>0.755</td>\n",
       "      <td>0.555</td>\n",
       "      <td>0.826</td>\n",
       "      <td>0.736</td>\n",
       "      <td>0.025</td>\n",
       "    </tr>\n",
       "  </tbody>\n",
       "</table>\n",
       "</div>"
      ],
      "text/plain": [
       "                              Accuracy  Balanced Accuracy  F1 (macro)  \\\n",
       "VanillaSlidedSqueeze             0.880              0.482       0.537   \n",
       "VanillaSlidedSqueezeReduced8     0.899              0.657       0.690   \n",
       "SlidedSqueezeReduced10           0.905              0.691       0.714   \n",
       "VanillaSlidedWeightedSqueeze     0.807              0.755       0.555   \n",
       "\n",
       "                              F1 (weighted)  Metric Average  \\\n",
       "VanillaSlidedSqueeze                  0.871           0.692   \n",
       "VanillaSlidedSqueezeReduced8          0.896           0.786   \n",
       "SlidedSqueezeReduced10                0.902           0.803   \n",
       "VanillaSlidedWeightedSqueeze          0.826           0.736   \n",
       "\n",
       "                              Evaluation time (second/BatchSize)   \n",
       "VanillaSlidedSqueeze                                        0.033  \n",
       "VanillaSlidedSqueezeReduced8                                0.024  \n",
       "SlidedSqueezeReduced10                                      0.024  \n",
       "VanillaSlidedWeightedSqueeze                                0.025  "
      ]
     },
     "execution_count": 39,
     "metadata": {},
     "output_type": "execute_result"
    }
   ],
   "source": [
    "acc, bal_acc, f1_m, f1_w = [], [], [], []\n",
    "for i in range(N_MODEL):\n",
    "    acc.append(accuracy_score(ys_true[i], ys_pred[i]))\n",
    "    bal_acc.append(balanced_accuracy_score(ys_true[i], ys_pred[i]))\n",
    "    f1_m.append(f1_score(ys_true[i], ys_pred[i], average='macro'))\n",
    "    f1_w.append(f1_score(ys_true[i], ys_pred[i], average='weighted'))\n",
    "    \n",
    "df = pd.DataFrame([acc, bal_acc, f1_m, f1_w], \n",
    "                  index=['Accuracy', 'Balanced Accuracy', 'F1 (macro)', 'F1 (weighted)'],\n",
    "                  columns = [i.split('/')[-1][5:-4] for i in MODEL_PATHS]).transpose()\n",
    "\n",
    "df['Metric Average'] = df.mean(axis=1)\n",
    "df['Evaluation time (second/BatchSize) '] = np.array(times)\n",
    "df = df.round(3)\n",
    "df.head(N_MODEL)"
   ]
  },
  {
   "cell_type": "code",
   "execution_count": 40,
   "metadata": {},
   "outputs": [
    {
     "data": {
      "image/png": "[encoded data removed]",
      "text/plain": [
       "<Figure size 1440x504 with 1 Axes>"
      ]
     },
     "metadata": {
      "needs_background": "light"
     },
     "output_type": "display_data"
    }
   ],
   "source": [
    "fig, ax = plt.subplots(1, 1, figsize = (20, 7))\n",
    "df.iloc[:, :-1].transpose().plot.bar(ax=ax)\n",
    "ax.grid()\n",
    "ax.set_ylim([0.4, 0.95])\n",
    "ax.tick_params(axis='x', labelrotation = 0)\n",
    "plt.show()"
   ]
  },
  {
   "cell_type": "code",
   "execution_count": null,
   "metadata": {},
   "outputs": [],
   "source": [
    "# fig = plt.figure(figsize = (5*N_MODEL, 5))\n",
    "# #plt.title('Confusion Matrix')\n",
    "# for i in range(N_MODEL):\n",
    "#     ax = fig.add_subplot(1, N_MODEL, i+1)\n",
    "#     cm = confusion_matrix(ys_pred[i], ys_true[i])\n",
    "#     cm_plot = ax.matshow(cm, cmap='Blues_r')\n",
    "#     ax.set_title(df.index[i])\n",
    "#     if i%N_MODEL == 0:\n",
    "#         ax.set_ylabel('Predicted')\n",
    "#         ax.set_yticklabels(['No Defects', 'No Defects', 'Type 1', 'Type 2', 'Type 3', 'Type 4'])\n",
    "#     else:\n",
    "#         #plt.colorbar(cm_plot)\n",
    "#         ax.set_yticklabels([])\n",
    "#     ax.set_xlabel('True')\n",
    "#     ax.xaxis.set_ticks_position('bottom')\n",
    "#     ax.set_xticklabels(['No Defects', 'No Defects', 'Type 1', 'Type 2', 'Type 3', 'Type 4'])\n",
    "#     for i in range(N_CLASSES):\n",
    "#         for j in range(N_CLASSES):\n",
    "#             k = 0\n",
    "#             ax.text(j, i, cm[i, j], va='center', ha='center')"
   ]
  },
  {
   "cell_type": "code",
   "execution_count": 41,
   "metadata": {},
   "outputs": [],
   "source": [
    "# fig = plt.figure(figsize = (15, 5*N_MODEL))\n",
    "# #plt.title('Confusion Matrix')\n",
    "# for j in range(N_MODEL):\n",
    "#     ax = fig.add_subplot(N_MODEL, 1, j+1)\n",
    "#     fpr = dict()\n",
    "#     tpr = dict()\n",
    "#     roc_auc = dict()\n",
    "#     for i in range(N_CLASSES):\n",
    "#         y_tmp = ys_true[j].copy()\n",
    "#         y_tmp[y_tmp != i] = N_CLASSES\n",
    "#         y_tmp[y_tmp == i] = N_CLASSES + 1\n",
    "#         y_tmp -= N_CLASSES\n",
    "\n",
    "#         fpr[i], tpr[i], _ = roc_curve(y_tmp, ys_score[j][:, i])\n",
    "#         roc_auc[i] = auc(fpr[i], tpr[i])\n",
    "#         ax.plot(fpr[i], tpr[i], label='AUC ClasID {}: {:.3f}'.format(i, roc_auc[i]))\n",
    "#         ax.grid()\n",
    "#         ax.set_title('{}\\nMean AUC = {:.3f}'.format(df.index[j], np.mean(list(roc_auc.values()))))\n",
    "#         ax.legend()"
   ]
  }
 ],
 "metadata": {
  "kernelspec": {
   "display_name": "Python 3",
   "language": "python",
   "name": "python3"
  },
  "language_info": {
   "codemirror_mode": {
    "name": "ipython",
    "version": 3
   },
   "file_extension": ".py",
   "mimetype": "text/x-python",
   "name": "python",
   "nbconvert_exporter": "python",
   "pygments_lexer": "ipython3",
   "version": "3.6.8"
  }
 },
 "nbformat": 4,
 "nbformat_minor": 4
}

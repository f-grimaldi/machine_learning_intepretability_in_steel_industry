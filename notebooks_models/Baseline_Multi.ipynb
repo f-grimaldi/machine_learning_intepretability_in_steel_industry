{
 "cells": [
  {
   "cell_type": "code",
   "execution_count": 37,
   "metadata": {},
   "outputs": [],
   "source": [
    "import torch\n",
    "import numpy as np\n",
    "import time\n",
    "import matplotlib.pyplot as plt\n",
    "\n",
    "from sklearn.preprocessing import MinMaxScaler\n",
    "from sklearn.decomposition import PCA, IncrementalPCA\n",
    "from sklearn.linear_model import LogisticRegression\n",
    "from sklearn.metrics import accuracy_score, f1_score, confusion_matrix, auc, roc_curve, balanced_accuracy_score"
   ]
  },
  {
   "cell_type": "code",
   "execution_count": 2,
   "metadata": {},
   "outputs": [],
   "source": [
    "IMAGE_PATH = '../data/train_images'\n",
    "DATA_PATH = '../data/multiData'\n",
    "METADATA_PATH = '../data/multiData/test_data.csv'\n",
    "\n",
    "\n",
    "TRAIN_INPUT_PATH = DATA_PATH + '/' + 'X_train.pth' \n",
    "TRAIN_LABEL_PATH = DATA_PATH + '/' + 'y_train.pth'\n",
    "VAL_INPUT_PATH = DATA_PATH + '/' + 'X_val.pth' \n",
    "VAL_LABEL_PATH = DATA_PATH + '/' + 'y_val.pth'\n",
    "TEST_INPUT_PATH = DATA_PATH + '/' + 'X_test.pth' \n",
    "TEST_LABEL_PATH = DATA_PATH + '/' + 'y_test.pth'"
   ]
  },
  {
   "cell_type": "code",
   "execution_count": 3,
   "metadata": {},
   "outputs": [],
   "source": [
    "X_train, y_train = torch.load(TRAIN_INPUT_PATH), torch.load(TRAIN_LABEL_PATH)\n",
    "X_val, y_val = torch.load(VAL_INPUT_PATH), torch.load(VAL_LABEL_PATH)\n"
   ]
  },
  {
   "cell_type": "code",
   "execution_count": 4,
   "metadata": {},
   "outputs": [],
   "source": [
    "X_train = X_train.reshape(X_train.shape[0], -1).numpy()\n",
    "X_val = X_val.reshape(X_val.shape[0], -1).numpy()"
   ]
  },
  {
   "cell_type": "code",
   "execution_count": 9,
   "metadata": {},
   "outputs": [],
   "source": [
    "scaler = MinMaxScaler()\n",
    "X_train = scaler.fit_transform(X_train)\n",
    "X_val = scaler.transform(X_val)"
   ]
  },
  {
   "cell_type": "code",
   "execution_count": 10,
   "metadata": {},
   "outputs": [],
   "source": [
    "def pipeline(pca_params, model_params, X_train, y_train, X_val, y_val):\n",
    "    pca = PCA(**pca_params)\n",
    "    print('Fitting PCA')\n",
    "    pca.fit(X_train)\n",
    "    X_train = pca.transform(X_train)\n",
    "    X_val = pca.transform(X_val)\n",
    "    print('Fitting Model')\n",
    "    model = LogisticRegression(**model_params)\n",
    "    model.fit(X_train, y_train)\n",
    "    y_pred1 = model.predict(X_train)\n",
    "    y_pred2 = model.predict(X_val)\n",
    "    try:\n",
    "        acc, f1 = accuracy_score(y_val, y_pred2), f1_score(y_val, y_pred2, average='macro')\n",
    "        print('Train:\\tAccuracy: {:.4f}\\tF1-score: {:.4f}'.format(accuracy_score(y_train, y_pred1), \n",
    "                                                                  f1_score(y_train, y_pred1, average='macro')))\n",
    "        print('Valid:\\tAccuracy: {:.4f}\\tF1-score: {:.4f}'.format(acc, f1))\n",
    "    \n",
    "        return pca, model, acc, f1\n",
    "    except:\n",
    "        return pca, model"
   ]
  },
  {
   "cell_type": "code",
   "execution_count": 11,
   "metadata": {},
   "outputs": [
    {
     "name": "stdout",
     "output_type": "stream",
     "text": [
      "Fitting PCA\n",
      "Fitting Model\n"
     ]
    },
    {
     "name": "stderr",
     "output_type": "stream",
     "text": [
      "C:\\Users\\fgrim\\AppData\\Local\\Continuum\\anaconda3\\lib\\site-packages\\sklearn\\linear_model\\_logistic.py:764: ConvergenceWarning: lbfgs failed to converge (status=1):\n",
      "STOP: TOTAL NO. of ITERATIONS REACHED LIMIT.\n",
      "\n",
      "Increase the number of iterations (max_iter) or scale the data as shown in:\n",
      "    https://scikit-learn.org/stable/modules/preprocessing.html\n",
      "Please also refer to the documentation for alternative solver options:\n",
      "    https://scikit-learn.org/stable/modules/linear_model.html#logistic-regression\n",
      "  extra_warning_msg=_LOGISTIC_SOLVER_CONVERGENCE_MSG)\n"
     ]
    },
    {
     "name": "stdout",
     "output_type": "stream",
     "text": [
      "Fitting PCA\n",
      "Fitting Model\n"
     ]
    },
    {
     "name": "stderr",
     "output_type": "stream",
     "text": [
      "C:\\Users\\fgrim\\AppData\\Local\\Continuum\\anaconda3\\lib\\site-packages\\sklearn\\linear_model\\_logistic.py:764: ConvergenceWarning: lbfgs failed to converge (status=1):\n",
      "STOP: TOTAL NO. of ITERATIONS REACHED LIMIT.\n",
      "\n",
      "Increase the number of iterations (max_iter) or scale the data as shown in:\n",
      "    https://scikit-learn.org/stable/modules/preprocessing.html\n",
      "Please also refer to the documentation for alternative solver options:\n",
      "    https://scikit-learn.org/stable/modules/linear_model.html#logistic-regression\n",
      "  extra_warning_msg=_LOGISTIC_SOLVER_CONVERGENCE_MSG)\n"
     ]
    },
    {
     "name": "stdout",
     "output_type": "stream",
     "text": [
      "Fitting PCA\n",
      "Fitting Model\n"
     ]
    },
    {
     "name": "stderr",
     "output_type": "stream",
     "text": [
      "C:\\Users\\fgrim\\AppData\\Local\\Continuum\\anaconda3\\lib\\site-packages\\sklearn\\linear_model\\_logistic.py:764: ConvergenceWarning: lbfgs failed to converge (status=1):\n",
      "STOP: TOTAL NO. of ITERATIONS REACHED LIMIT.\n",
      "\n",
      "Increase the number of iterations (max_iter) or scale the data as shown in:\n",
      "    https://scikit-learn.org/stable/modules/preprocessing.html\n",
      "Please also refer to the documentation for alternative solver options:\n",
      "    https://scikit-learn.org/stable/modules/linear_model.html#logistic-regression\n",
      "  extra_warning_msg=_LOGISTIC_SOLVER_CONVERGENCE_MSG)\n"
     ]
    },
    {
     "name": "stdout",
     "output_type": "stream",
     "text": [
      "Fitting PCA\n",
      "Fitting Model\n"
     ]
    },
    {
     "name": "stderr",
     "output_type": "stream",
     "text": [
      "C:\\Users\\fgrim\\AppData\\Local\\Continuum\\anaconda3\\lib\\site-packages\\sklearn\\linear_model\\_logistic.py:764: ConvergenceWarning: lbfgs failed to converge (status=1):\n",
      "STOP: TOTAL NO. of ITERATIONS REACHED LIMIT.\n",
      "\n",
      "Increase the number of iterations (max_iter) or scale the data as shown in:\n",
      "    https://scikit-learn.org/stable/modules/preprocessing.html\n",
      "Please also refer to the documentation for alternative solver options:\n",
      "    https://scikit-learn.org/stable/modules/linear_model.html#logistic-regression\n",
      "  extra_warning_msg=_LOGISTIC_SOLVER_CONVERGENCE_MSG)\n"
     ]
    },
    {
     "name": "stdout",
     "output_type": "stream",
     "text": [
      "Fitting PCA\n",
      "Fitting Model\n"
     ]
    },
    {
     "name": "stderr",
     "output_type": "stream",
     "text": [
      "C:\\Users\\fgrim\\AppData\\Local\\Continuum\\anaconda3\\lib\\site-packages\\sklearn\\linear_model\\_logistic.py:764: ConvergenceWarning: lbfgs failed to converge (status=1):\n",
      "STOP: TOTAL NO. of ITERATIONS REACHED LIMIT.\n",
      "\n",
      "Increase the number of iterations (max_iter) or scale the data as shown in:\n",
      "    https://scikit-learn.org/stable/modules/preprocessing.html\n",
      "Please also refer to the documentation for alternative solver options:\n",
      "    https://scikit-learn.org/stable/modules/linear_model.html#logistic-regression\n",
      "  extra_warning_msg=_LOGISTIC_SOLVER_CONVERGENCE_MSG)\n"
     ]
    }
   ],
   "source": [
    "results = []\n",
    "for values in [0.90, 0.925, 0.95, 0.975, 0.99]:\n",
    "    result = pipeline({'n_components': values}, {'max_iter': 500}, X_train, y_train, X_val, y_val)\n",
    "    results.append(result)"
   ]
  },
  {
   "cell_type": "code",
   "execution_count": 12,
   "metadata": {},
   "outputs": [],
   "source": [
    "var = [0.90, 0.925, 0.95, 0.975, 0.99]\n",
    "n_comp = [i[0].n_components_ for i in results]"
   ]
  },
  {
   "cell_type": "code",
   "execution_count": 31,
   "metadata": {},
   "outputs": [
    {
     "name": "stdout",
     "output_type": "stream",
     "text": [
      "Fitting Model\n",
      "Train:\tAccuracy: 0.6744\tF1-score: 0.3673\n",
      "Valid:\tAccuracy: 0.6841\tF1-score: 0.3713\n",
      "Fitting Model\n",
      "Train:\tAccuracy: 0.6984\tF1-score: 0.3880\n",
      "Valid:\tAccuracy: 0.7117\tF1-score: 0.3864\n",
      "Fitting Model\n"
     ]
    },
    {
     "name": "stderr",
     "output_type": "stream",
     "text": [
      "C:\\Users\\fgrim\\AppData\\Local\\Continuum\\anaconda3\\lib\\site-packages\\sklearn\\linear_model\\_logistic.py:764: ConvergenceWarning: lbfgs failed to converge (status=1):\n",
      "STOP: TOTAL NO. of ITERATIONS REACHED LIMIT.\n",
      "\n",
      "Increase the number of iterations (max_iter) or scale the data as shown in:\n",
      "    https://scikit-learn.org/stable/modules/preprocessing.html\n",
      "Please also refer to the documentation for alternative solver options:\n",
      "    https://scikit-learn.org/stable/modules/linear_model.html#logistic-regression\n",
      "  extra_warning_msg=_LOGISTIC_SOLVER_CONVERGENCE_MSG)\n"
     ]
    },
    {
     "name": "stdout",
     "output_type": "stream",
     "text": [
      "Train:\tAccuracy: 0.7124\tF1-score: 0.4520\n",
      "Valid:\tAccuracy: 0.7096\tF1-score: 0.4250\n",
      "Fitting Model\n"
     ]
    },
    {
     "name": "stderr",
     "output_type": "stream",
     "text": [
      "C:\\Users\\fgrim\\AppData\\Local\\Continuum\\anaconda3\\lib\\site-packages\\sklearn\\linear_model\\_logistic.py:764: ConvergenceWarning: lbfgs failed to converge (status=1):\n",
      "STOP: TOTAL NO. of ITERATIONS REACHED LIMIT.\n",
      "\n",
      "Increase the number of iterations (max_iter) or scale the data as shown in:\n",
      "    https://scikit-learn.org/stable/modules/preprocessing.html\n",
      "Please also refer to the documentation for alternative solver options:\n",
      "    https://scikit-learn.org/stable/modules/linear_model.html#logistic-regression\n",
      "  extra_warning_msg=_LOGISTIC_SOLVER_CONVERGENCE_MSG)\n"
     ]
    },
    {
     "name": "stdout",
     "output_type": "stream",
     "text": [
      "Train:\tAccuracy: 0.7369\tF1-score: 0.5709\n",
      "Valid:\tAccuracy: 0.6874\tF1-score: 0.4389\n",
      "Fitting Model\n",
      "Train:\tAccuracy: 0.8242\tF1-score: 0.7940\n",
      "Valid:\tAccuracy: 0.6314\tF1-score: 0.4164\n"
     ]
    },
    {
     "name": "stderr",
     "output_type": "stream",
     "text": [
      "C:\\Users\\fgrim\\AppData\\Local\\Continuum\\anaconda3\\lib\\site-packages\\sklearn\\linear_model\\_logistic.py:764: ConvergenceWarning: lbfgs failed to converge (status=1):\n",
      "STOP: TOTAL NO. of ITERATIONS REACHED LIMIT.\n",
      "\n",
      "Increase the number of iterations (max_iter) or scale the data as shown in:\n",
      "    https://scikit-learn.org/stable/modules/preprocessing.html\n",
      "Please also refer to the documentation for alternative solver options:\n",
      "    https://scikit-learn.org/stable/modules/linear_model.html#logistic-regression\n",
      "  extra_warning_msg=_LOGISTIC_SOLVER_CONVERGENCE_MSG)\n"
     ]
    }
   ],
   "source": [
    "accs, f1s = [], []\n",
    "for pca in results:\n",
    "    X_train_pca = pca[0].transform(X_train)\n",
    "    X_val_pca = pca[0].transform(X_val)\n",
    "    print('Fitting Model')\n",
    "    model = LogisticRegression(max_iter=1000)\n",
    "    model.fit(X_train_pca, y_train)\n",
    "    y_pred1 = model.predict(X_train_pca)\n",
    "    y_pred2 = model.predict(X_val_pca)\n",
    "    acc, f1 = accuracy_score(y_val, y_pred2), f1_score(y_val, y_pred2, average='macro')\n",
    "    print('Train:\\tAccuracy: {:.4f}\\tF1-score: {:.4f}'.format(accuracy_score(y_train, y_pred1), \n",
    "                                                              f1_score(y_train, y_pred1, average='macro')))\n",
    "    print('Valid:\\tAccuracy: {:.4f}\\tF1-score: {:.4f}'.format(acc, f1))\n",
    "    \n",
    "    accs.append(acc)\n",
    "    f1s.append(f1)"
   ]
  },
  {
   "cell_type": "code",
   "execution_count": 64,
   "metadata": {},
   "outputs": [
    {
     "data": {
      "image/png": "[encoded data removed]",
      "text/plain": [
       "<Figure size 864x360 with 1 Axes>"
      ]
     },
     "metadata": {
      "needs_background": "light"
     },
     "output_type": "display_data"
    }
   ],
   "source": [
    "fig = plt.figure(figsize = (12, 5))\n",
    "plt.bar([str(i)+' / '+str(j) for i,j in zip(var, n_comp)] , [i for i in accs])\n",
    "plt.grid()\n",
    "plt.ylim([0.6, 0.73])\n",
    "plt.title('Accuracy* of Logistic Regression by PCA variance explained / number of components (*validation set)')\n",
    "plt.xlabel('Variance Explained / Number of Components')\n",
    "plt.ylabel('Accuracy')\n",
    "plt.show()"
   ]
  },
  {
   "cell_type": "code",
   "execution_count": 45,
   "metadata": {},
   "outputs": [
    {
     "name": "stdout",
     "output_type": "stream",
     "text": [
      "Accuracy score: 0.675\n",
      "Balanced Accuracy score: 0.501\n",
      "F1 score: 0.707\n"
     ]
    }
   ],
   "source": [
    "TEST_INPUT_PATH = DATA_PATH + '/' + 'X_test.pth' \n",
    "TEST_LABEL_PATH = DATA_PATH + '/' + 'y_test.pth'\n",
    "X_test, y_test = torch.load(TEST_INPUT_PATH), torch.load(TEST_LABEL_PATH)\n",
    "X_test = scaler.transform(X_test.reshape(X_test.shape[0], -1).numpy())\n",
    "\n",
    "pca = results[1][0]\n",
    "model = LogisticRegression(max_iter=1000)\n",
    "X_train_pca = pca.transform(X_train)\n",
    "X_test_pca = pca.transform(X_test)\n",
    "model.fit(X_train_pca, y_train)\n",
    "y_pred = model.predict(X_test_pca)\n",
    "y_score = model.predict_proba(X_test_pca)\n",
    "print('Accuracy score: {:.3f}'.format(accuracy_score(y_pred, y_test)))\n",
    "print('Balanced Accuracy score: {:.3f}'.format(balanced_accuracy_score(y_pred, y_test)))\n",
    "print('F1 score: {:.3f}'.format(f1_score(y_pred, y_test, average='weighted')))"
   ]
  },
  {
   "cell_type": "code",
   "execution_count": 62,
   "metadata": {},
   "outputs": [
    {
     "name": "stdout",
     "output_type": "stream",
     "text": [
      "Number of errors: 789\n"
     ]
    }
   ],
   "source": [
    "NUMBER_OF_ERROR =y_pred.shape[0] - y_pred[y_pred - y_test.numpy() == 0].shape[0]\n",
    "print('Number of errors: {}'.format(NUMBER_OF_ERROR))"
   ]
  },
  {
   "cell_type": "code",
   "execution_count": 50,
   "metadata": {},
   "outputs": [
    {
     "data": {
      "image/png": "[encoded data removed]",
      "text/plain": [
       "<Figure size 1080x432 with 2 Axes>"
      ]
     },
     "metadata": {
      "needs_background": "light"
     },
     "output_type": "display_data"
    }
   ],
   "source": [
    "fig = plt.figure(figsize = (15, 6))\n",
    "ax = fig.add_subplot(1, 1, 1)\n",
    "cm = confusion_matrix(y_pred, y_test)\n",
    "cm_plot = ax.matshow(cm, cmap='Blues_r')\n",
    "ax.set_title('Logistic Regression Confusion Matrix')\n",
    "ax.set_ylabel('Predicted')\n",
    "ax.set_yticklabels(['No Defects', 'No Defects', 'Type 1', 'Type 2', 'Type 3', 'Type 4'])\n",
    "plt.colorbar(cm_plot)\n",
    "ax.xaxis.set_ticks_position('bottom')\n",
    "ax.set_xticklabels(['No Defects', 'No Defects', 'Type 1', 'Type 2', 'Type 3', 'Type 4'])\n",
    "for i in range(5):\n",
    "    for j in range(5):\n",
    "        k = 0\n",
    "        ax.text(j, i, cm[i, j], va='center', ha='center')\n",
    "\n",
    "        \n",
    "# ax = fig.add_subplot(1, 2, 2)\n",
    "# fpr = dict()\n",
    "# tpr = dict()\n",
    "# roc_auc = dict()\n",
    "# fpr, tpr, _ = roc_curve(y_test, y_score[:, 0])\n",
    "# roc_auc = auc(tpr, fpr)\n",
    "# ax.plot(tpr, fpr)\n",
    "# ax.grid()\n",
    "# ax.set_title('Logistic Regression AUC: {:.3f}'.format(roc_auc))\n",
    "# plt.show()"
   ]
  }
 ],
 "metadata": {
  "kernelspec": {
   "display_name": "Python 3",
   "language": "python",
   "name": "python3"
  },
  "language_info": {
   "codemirror_mode": {
    "name": "ipython",
    "version": 3
   },
   "file_extension": ".py",
   "mimetype": "text/x-python",
   "name": "python",
   "nbconvert_exporter": "python",
   "pygments_lexer": "ipython3",
   "version": "3.6.8"
  }
 },
 "nbformat": 4,
 "nbformat_minor": 4
}

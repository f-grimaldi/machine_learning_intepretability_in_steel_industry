{
 "cells": [
  {
   "cell_type": "code",
   "execution_count": 53,
   "metadata": {},
   "outputs": [],
   "source": [
    "import torch\n",
    "import numpy as np\n",
    "import time\n",
    "import matplotlib.pyplot as plt\n",
    "\n",
    "from sklearn.decomposition import PCA, IncrementalPCA\n",
    "from sklearn.linear_model import LogisticRegression\n",
    "from sklearn.metrics import accuracy_score, f1_score, confusion_matrix, auc, roc_curve"
   ]
  },
  {
   "cell_type": "code",
   "execution_count": 4,
   "metadata": {},
   "outputs": [],
   "source": [
    "IMAGE_PATH = '../data/train_images'\n",
    "DATA_PATH = '../data/binaryData'\n",
    "METADATA_PATH = '../data/binaryData/test_data.csv'\n",
    "\n",
    "\n",
    "TRAIN_INPUT_PATH = DATA_PATH + '/' + 'X_train_binary.pth' \n",
    "TRAIN_LABEL_PATH = DATA_PATH + '/' + 'y_train_binary.pth'\n",
    "VAL_INPUT_PATH = DATA_PATH + '/' + 'X_val_binary.pth' \n",
    "VAL_LABEL_PATH = DATA_PATH + '/' + 'y_val_binary.pth'\n",
    "TEST_INPUT_PATH = DATA_PATH + '/' + 'X_test_binary.pth' \n",
    "TEST_LABEL_PATH = DATA_PATH + '/' + 'y_test_binary.pth'"
   ]
  },
  {
   "cell_type": "code",
   "execution_count": 5,
   "metadata": {},
   "outputs": [],
   "source": [
    "X_train, y_train = torch.load(TRAIN_INPUT_PATH), torch.load(TRAIN_LABEL_PATH)\n",
    "X_val, y_val = torch.load(VAL_INPUT_PATH), torch.load(VAL_LABEL_PATH)\n",
    "X_test, y_test = torch.load(TEST_INPUT_PATH), torch.load(TEST_LABEL_PATH)"
   ]
  },
  {
   "cell_type": "code",
   "execution_count": 6,
   "metadata": {},
   "outputs": [],
   "source": [
    "X_train = X_train.reshape(X_train.shape[0], -1).numpy()\n",
    "X_val = X_val.reshape(X_val.shape[0], -1).numpy()\n",
    "X_test = X_test.reshape(X_test.shape[0], -1).numpy()"
   ]
  },
  {
   "cell_type": "code",
   "execution_count": 12,
   "metadata": {},
   "outputs": [],
   "source": [
    "def pipeline(pca_params, model_params, X_train, y_train, X_val, y_val):\n",
    "    pca = PCA(**pca_params)\n",
    "    print('Fitting PCA')\n",
    "    pca.fit(X_train)\n",
    "    X_train = pca.transform(X_train)\n",
    "    X_val = pca.transform(X_val)\n",
    "    print('Fitting Model')\n",
    "    model = LogisticRegression(**model_params)\n",
    "    model.fit(X_train, y_train)\n",
    "    y_pred1 = model.predict(X_train)\n",
    "    y_pred2 = model.predict(X_val)\n",
    "\n",
    "    acc, f1 = accuracy_score(y_val, y_pred2), f1_score(y_val, y_pred2)\n",
    "    print('Train:\\tAccuracy: {:.4f}\\tF1-score: {:.4f}'.format(accuracy_score(y_train, y_pred1), f1_score(y_train, y_pred1)))\n",
    "    print('Valid:\\tAccuracy: {:.4f}\\tF1-score: {:.4f}'.format(acc, f1))\n",
    "    \n",
    "    return pca, model, acc, f1"
   ]
  },
  {
   "cell_type": "code",
   "execution_count": 13,
   "metadata": {},
   "outputs": [
    {
     "name": "stdout",
     "output_type": "stream",
     "text": [
      "Fitting PCA\n",
      "Fitting Model\n",
      "Train:\tAccuracy: 0.6859\tF1-score: 0.6925\n",
      "Valid:\tAccuracy: 0.6917\tF1-score: 0.7088\n",
      "Fitting PCA\n",
      "Fitting Model\n",
      "Train:\tAccuracy: 0.7413\tF1-score: 0.7458\n",
      "Valid:\tAccuracy: 0.7510\tF1-score: 0.7641\n",
      "Fitting PCA\n",
      "Fitting Model\n",
      "Train:\tAccuracy: 0.7545\tF1-score: 0.7584\n",
      "Valid:\tAccuracy: 0.7466\tF1-score: 0.7615\n",
      "Fitting PCA\n",
      "Fitting Model\n"
     ]
    },
    {
     "name": "stderr",
     "output_type": "stream",
     "text": [
      "C:\\Users\\fgrim\\anaconda3\\lib\\site-packages\\sklearn\\linear_model\\_logistic.py:940: ConvergenceWarning: lbfgs failed to converge (status=1):\n",
      "STOP: TOTAL NO. of ITERATIONS REACHED LIMIT.\n",
      "\n",
      "Increase the number of iterations (max_iter) or scale the data as shown in:\n",
      "    https://scikit-learn.org/stable/modules/preprocessing.html\n",
      "Please also refer to the documentation for alternative solver options:\n",
      "    https://scikit-learn.org/stable/modules/linear_model.html#logistic-regression\n",
      "  extra_warning_msg=_LOGISTIC_SOLVER_CONVERGENCE_MSG)\n"
     ]
    },
    {
     "name": "stdout",
     "output_type": "stream",
     "text": [
      "Train:\tAccuracy: 0.7690\tF1-score: 0.7753\n",
      "Valid:\tAccuracy: 0.7383\tF1-score: 0.7593\n",
      "Fitting PCA\n",
      "Fitting Model\n",
      "Train:\tAccuracy: 0.8215\tF1-score: 0.8282\n",
      "Valid:\tAccuracy: 0.7156\tF1-score: 0.7465\n"
     ]
    },
    {
     "name": "stderr",
     "output_type": "stream",
     "text": [
      "C:\\Users\\fgrim\\anaconda3\\lib\\site-packages\\sklearn\\linear_model\\_logistic.py:940: ConvergenceWarning: lbfgs failed to converge (status=1):\n",
      "STOP: TOTAL NO. of ITERATIONS REACHED LIMIT.\n",
      "\n",
      "Increase the number of iterations (max_iter) or scale the data as shown in:\n",
      "    https://scikit-learn.org/stable/modules/preprocessing.html\n",
      "Please also refer to the documentation for alternative solver options:\n",
      "    https://scikit-learn.org/stable/modules/linear_model.html#logistic-regression\n",
      "  extra_warning_msg=_LOGISTIC_SOLVER_CONVERGENCE_MSG)\n"
     ]
    }
   ],
   "source": [
    "results = []\n",
    "for values in [0.90, 0.925, 0.95, 0.975, 0.99]:\n",
    "    result = pipeline({'n_components': values}, {'max_iter': 300}, X_train, y_train, X_val, y_val)\n",
    "    results.append(result)"
   ]
  },
  {
   "cell_type": "code",
   "execution_count": 34,
   "metadata": {},
   "outputs": [],
   "source": [
    "var = [0.90, 0.925, 0.95, 0.975, 0.99]\n",
    "n_comp = [i[0].n_components_ for i in results]"
   ]
  },
  {
   "cell_type": "code",
   "execution_count": 43,
   "metadata": {},
   "outputs": [
    {
     "data": {
      "image/png": "[encoded data removed]",
      "text/plain": [
       "<Figure size 864x360 with 1 Axes>"
      ]
     },
     "metadata": {
      "needs_background": "light"
     },
     "output_type": "display_data"
    }
   ],
   "source": [
    "fig = plt.figure(figsize = (12, 5))\n",
    "plt.bar([str(i)+' / '+str(j) for i,j in zip(var, n_comp)] , [i[2] for i in results])\n",
    "plt.grid()\n",
    "plt.ylim([0.6, 0.78])\n",
    "plt.title('Accuracy of Logistic Regression by PCA variance explained / number of components')\n",
    "plt.xlabel('Variance Explained / Number of Components')\n",
    "plt.ylabel('Accuracy')\n",
    "plt.show()"
   ]
  },
  {
   "cell_type": "code",
   "execution_count": 48,
   "metadata": {},
   "outputs": [
    {
     "name": "stdout",
     "output_type": "stream",
     "text": [
      "Accuracy score: 0.751\n",
      "F1 score: 0.757\n"
     ]
    }
   ],
   "source": [
    "pca = results[1][0]\n",
    "model = results[1][1]\n",
    "X_test_pca = pca.transform(X_test)\n",
    "y_pred = model.predict(X_test_pca)\n",
    "y_score = model.predict_proba(X_test_pca)\n",
    "print('Accuracy score: {:.3f}'.format(accuracy_score(y_pred, y_test)))\n",
    "print('F1 score: {:.3f}'.format(f1_score(y_pred, y_test)))"
   ]
  },
  {
   "cell_type": "code",
   "execution_count": 68,
   "metadata": {},
   "outputs": [
    {
     "data": {
      "image/png": "[encoded data removed]",
      "text/plain": [
       "<Figure size 1080x432 with 3 Axes>"
      ]
     },
     "metadata": {
      "needs_background": "light"
     },
     "output_type": "display_data"
    }
   ],
   "source": [
    "fig = plt.figure(figsize = (15, 6))\n",
    "ax = fig.add_subplot(1, 2, 1)\n",
    "cm = confusion_matrix(y_pred, y_test)\n",
    "cm_plot = ax.matshow(cm, cmap='Blues_r')\n",
    "ax.set_title('Logistic Regression Confusion Matrix')\n",
    "ax.set_ylabel('Predicted')\n",
    "ax.set_yticklabels(['No Defects', 'No Defects', 'Defects'])\n",
    "plt.colorbar(cm_plot)\n",
    "ax.xaxis.set_ticks_position('bottom')\n",
    "ax.set_xticklabels(['No Defects', 'No Defects', 'Defects'])\n",
    "for i in range(2):\n",
    "    for j in range(2):\n",
    "        k = 0\n",
    "        ax.text(j, i, cm[i, j], va='center', ha='center')\n",
    "                   \n",
    "ax = fig.add_subplot(1, 2, 2)\n",
    "fpr = dict()\n",
    "tpr = dict()\n",
    "roc_auc = dict()\n",
    "fpr, tpr, _ = roc_curve(y_test, y_score[:, 0])\n",
    "roc_auc = auc(tpr, fpr)\n",
    "ax.plot(tpr, fpr)\n",
    "ax.grid()\n",
    "ax.set_title('Logistic Regression AUC: {:.3f}'.format(roc_auc))\n",
    "plt.show()"
   ]
  }
 ],
 "metadata": {
  "kernelspec": {
   "display_name": "Python 3",
   "language": "python",
   "name": "python3"
  },
  "language_info": {
   "codemirror_mode": {
    "name": "ipython",
    "version": 3
   },
   "file_extension": ".py",
   "mimetype": "text/x-python",
   "name": "python",
   "nbconvert_exporter": "python",
   "pygments_lexer": "ipython3",
   "version": "3.6.8"
  }
 },
 "nbformat": 4,
 "nbformat_minor": 4
}

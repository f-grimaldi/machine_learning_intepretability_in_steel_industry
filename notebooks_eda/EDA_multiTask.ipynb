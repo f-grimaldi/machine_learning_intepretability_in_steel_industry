{
 "cells": [
  {
   "cell_type": "markdown",
   "metadata": {},
   "source": [
    "### EDA for the multi-task classification"
   ]
  },
  {
   "cell_type": "markdown",
   "metadata": {},
   "source": [
    "### Requirments"
   ]
  },
  {
   "cell_type": "code",
   "execution_count": 2,
   "metadata": {},
   "outputs": [],
   "source": [
    "import pandas as pd\n",
    "import numpy as np\n",
    "import matplotlib.pyplot as plt"
   ]
  },
  {
   "cell_type": "markdown",
   "metadata": {},
   "source": [
    "### Parameters"
   ]
  },
  {
   "cell_type": "code",
   "execution_count": 3,
   "metadata": {},
   "outputs": [],
   "source": [
    "METADATA_PATH = '../data/multiData/'\n",
    "LABEL_MULTI = LABEL_MULTI = ['No Defect', 'Type 1', 'Type 2', 'Type 3', 'Type 4'] "
   ]
  },
  {
   "cell_type": "markdown",
   "metadata": {},
   "source": [
    "### Multi Dataset"
   ]
  },
  {
   "cell_type": "code",
   "execution_count": 6,
   "metadata": {},
   "outputs": [
    {
     "name": "stdout",
     "output_type": "stream",
     "text": [
      "INFO:\n",
      "\tDefectID:\t\t\t\t\t\t[0, 1, 2, 3, 4]\n",
      "\tNumber of examples:\t\t\t\t\t12141\n",
      "\tNumber of unique images:\t\t\t\t12141\n",
      "\n",
      "\tNumber of images with no defect:\t\t\t5902 (48.61%)\n",
      "\tNumber of images with one defect:\t\t\t6239 (51.39%)\n"
     ]
    },
    {
     "data": {
      "text/html": [
       "<div>\n",
       "<style scoped>\n",
       "    .dataframe tbody tr th:only-of-type {\n",
       "        vertical-align: middle;\n",
       "    }\n",
       "\n",
       "    .dataframe tbody tr th {\n",
       "        vertical-align: top;\n",
       "    }\n",
       "\n",
       "    .dataframe thead th {\n",
       "        text-align: right;\n",
       "    }\n",
       "</style>\n",
       "<table border=\"1\" class=\"dataframe\">\n",
       "  <thead>\n",
       "    <tr style=\"text-align: right;\">\n",
       "      <th></th>\n",
       "      <th>ImageId</th>\n",
       "      <th>ClassId</th>\n",
       "      <th>EncodedPixels</th>\n",
       "      <th>Folder</th>\n",
       "    </tr>\n",
       "  </thead>\n",
       "  <tbody>\n",
       "    <tr>\n",
       "      <th>0</th>\n",
       "      <td>0002cc93b.jpg</td>\n",
       "      <td>1</td>\n",
       "      <td>29102 12 29346 24 29602 24 29858 24 30114 24 3...</td>\n",
       "      <td>0</td>\n",
       "    </tr>\n",
       "    <tr>\n",
       "      <th>1</th>\n",
       "      <td>0007a71bf.jpg</td>\n",
       "      <td>3</td>\n",
       "      <td>18661 28 18863 82 19091 110 19347 110 19603 11...</td>\n",
       "      <td>0</td>\n",
       "    </tr>\n",
       "    <tr>\n",
       "      <th>2</th>\n",
       "      <td>000a4bcdd.jpg</td>\n",
       "      <td>1</td>\n",
       "      <td>37607 3 37858 8 38108 14 38359 20 38610 25 388...</td>\n",
       "      <td>0</td>\n",
       "    </tr>\n",
       "    <tr>\n",
       "      <th>3</th>\n",
       "      <td>000f6bf48.jpg</td>\n",
       "      <td>4</td>\n",
       "      <td>131973 1 132228 4 132483 6 132738 8 132993 11 ...</td>\n",
       "      <td>0</td>\n",
       "    </tr>\n",
       "    <tr>\n",
       "      <th>4</th>\n",
       "      <td>0014fce06.jpg</td>\n",
       "      <td>3</td>\n",
       "      <td>229501 11 229741 33 229981 55 230221 77 230468...</td>\n",
       "      <td>0</td>\n",
       "    </tr>\n",
       "  </tbody>\n",
       "</table>\n",
       "</div>"
      ],
      "text/plain": [
       "         ImageId  ClassId                                      EncodedPixels  \\\n",
       "0  0002cc93b.jpg        1  29102 12 29346 24 29602 24 29858 24 30114 24 3...   \n",
       "1  0007a71bf.jpg        3  18661 28 18863 82 19091 110 19347 110 19603 11...   \n",
       "2  000a4bcdd.jpg        1  37607 3 37858 8 38108 14 38359 20 38610 25 388...   \n",
       "3  000f6bf48.jpg        4  131973 1 132228 4 132483 6 132738 8 132993 11 ...   \n",
       "4  0014fce06.jpg        3  229501 11 229741 33 229981 55 230221 77 230468...   \n",
       "\n",
       "   Folder  \n",
       "0       0  \n",
       "1       0  \n",
       "2       0  \n",
       "3       0  \n",
       "4       0  "
      ]
     },
     "execution_count": 6,
     "metadata": {},
     "output_type": "execute_result"
    }
   ],
   "source": [
    "df = pd.read_csv(METADATA_PATH+'multi_task_data.csv')\n",
    "\n",
    "total_examples = df.shape[0]\n",
    "unique_img = df.ImageId.unique().shape[0]\n",
    "imgs_with_no_defect = df.ImageId[df.ClassId == 0].shape[0]\n",
    "imgs_with_one_defect = df.ImageId[df.ClassId > 0].shape[0]\n",
    "\n",
    "print('INFO:')\n",
    "print('\\tDefectID:\\t\\t\\t\\t\\t\\t{}'.format(sorted(df.ClassId.unique())))\n",
    "print('\\tNumber of examples:\\t\\t\\t\\t\\t{}'.format(total_examples))\n",
    "print('\\tNumber of unique images:\\t\\t\\t\\t{}\\n'.format(unique_img))\n",
    "\n",
    "print('\\tNumber of images with no defect:\\t\\t\\t{} ({:.2f}%)'\n",
    "      .format(imgs_with_no_defect, imgs_with_no_defect*100/unique_img))\n",
    "\n",
    "print('\\tNumber of images with one defect:\\t\\t\\t{} ({:.2f}%)'\n",
    "      .format(imgs_with_one_defect, imgs_with_one_defect*100/unique_img))\n",
    "df.head()"
   ]
  },
  {
   "cell_type": "code",
   "execution_count": 4,
   "metadata": {},
   "outputs": [
    {
     "name": "stdout",
     "output_type": "stream",
     "text": [
      "Class ID meaning:\t\t{0: 'No Defects', 1: 'Type 1', 2: 'Type 2', 3: 'Type 3', 4: 'Type 4'}\n",
      "Class Distribution:\t\t[5902, 769, 195, 4759, 516]\n",
      "Class Relative Distribution:\t[0.486, 0.063, 0.016, 0.392, 0.043]\n"
     ]
    }
   ],
   "source": [
    "class_dist = df.ClassId.value_counts().sort_index()\n",
    "ClassId2ClassName = {0: 'No Defects', 1:'Type 1', 2:'Type 2', 3:'Type 3', 4:'Type 4'}\n",
    "relative_fr = [round(i, 3) for i in class_dist.values/class_dist.sum()]\n",
    "print('Class ID meaning:\\t\\t{}'.format(ClassId2ClassName))\n",
    "print('Class Distribution:\\t\\t{}'.format(list(class_dist.values)))\n",
    "print('Class Relative Distribution:\\t{}'.format(relative_fr))"
   ]
  },
  {
   "cell_type": "code",
   "execution_count": 5,
   "metadata": {},
   "outputs": [
    {
     "data": {
      "image/png": "[encoded data removed]",
      "text/plain": [
       "<Figure size 1080x432 with 1 Axes>"
      ]
     },
     "metadata": {
      "needs_background": "light"
     },
     "output_type": "display_data"
    }
   ],
   "source": [
    "fig, ax = plt.subplots(1, 1, figsize = (15, 6))\n",
    "bar1 = ax.bar(ClassId2ClassName.values(), class_dist/class_dist.sum(),\n",
    "         color=['steelblue', 'cyan', 'red', 'green', 'blue'])\n",
    "ax.set_title('ClassID Distribution')\n",
    "ax.set_ylabel('Relative Frequency')\n",
    "ax.set_xlabel('ClassID')\n",
    "ax.grid()\n",
    "ax.set_ylim([0, 0.65])\n",
    "\n",
    "for i, rect in enumerate(bar1):\n",
    "    height = rect.get_height()\n",
    "    text = '{} ({:.3f})'.format(class_dist.values[i], height)\n",
    "    plt.text(rect.get_x() + rect.get_width()/2.0, height+0.003, text, ha='center', va='bottom')\n",
    "plt.show()"
   ]
  },
  {
   "cell_type": "markdown",
   "metadata": {},
   "source": [
    "### Train Dataset"
   ]
  },
  {
   "cell_type": "code",
   "execution_count": 9,
   "metadata": {},
   "outputs": [
    {
     "name": "stdout",
     "output_type": "stream",
     "text": [
      "INFO:\n",
      "\tDefectID:\t\t\t\t\t\t[0, 1, 2, 3, 4]\n",
      "\tNumber of examples:\t\t\t\t\t7285\n",
      "\tNumber of unique images:\t\t\t\t7285\n",
      "\n",
      "\tNumber of images with no defect:\t\t\t3530 (48.46%)\n",
      "\tNumber of images with type 1 defect:\t\t\t459 (6.30%)\n",
      "\tNumber of images with type 2 defect:\t\t\t113 (1.55%)\n",
      "\tNumber of images with type 3 defect:\t\t\t2882 (39.56%)\n",
      "\tNumber of images with type 4 defect:\t\t\t301 (4.13%)\n"
     ]
    },
    {
     "data": {
      "text/html": [
       "<div>\n",
       "<style scoped>\n",
       "    .dataframe tbody tr th:only-of-type {\n",
       "        vertical-align: middle;\n",
       "    }\n",
       "\n",
       "    .dataframe tbody tr th {\n",
       "        vertical-align: top;\n",
       "    }\n",
       "\n",
       "    .dataframe thead th {\n",
       "        text-align: right;\n",
       "    }\n",
       "</style>\n",
       "<table border=\"1\" class=\"dataframe\">\n",
       "  <thead>\n",
       "    <tr style=\"text-align: right;\">\n",
       "      <th></th>\n",
       "      <th>ImageId</th>\n",
       "      <th>ClassId</th>\n",
       "      <th>EncodedPixels</th>\n",
       "      <th>Folder</th>\n",
       "    </tr>\n",
       "  </thead>\n",
       "  <tbody>\n",
       "    <tr>\n",
       "      <th>0</th>\n",
       "      <td>0e650e720.jpg</td>\n",
       "      <td>4</td>\n",
       "      <td>271630 2 271885 5 272140 9 272396 11 272651 14...</td>\n",
       "      <td>9</td>\n",
       "    </tr>\n",
       "    <tr>\n",
       "      <th>1</th>\n",
       "      <td>6dfc0dc98.jpg</td>\n",
       "      <td>0</td>\n",
       "      <td>NaN</td>\n",
       "      <td>231</td>\n",
       "    </tr>\n",
       "    <tr>\n",
       "      <th>2</th>\n",
       "      <td>85be23fbf.jpg</td>\n",
       "      <td>0</td>\n",
       "      <td>NaN</td>\n",
       "      <td>244</td>\n",
       "    </tr>\n",
       "    <tr>\n",
       "      <th>3</th>\n",
       "      <td>194f48184.jpg</td>\n",
       "      <td>0</td>\n",
       "      <td>NaN</td>\n",
       "      <td>181</td>\n",
       "    </tr>\n",
       "    <tr>\n",
       "      <th>4</th>\n",
       "      <td>9ae440fd0.jpg</td>\n",
       "      <td>3</td>\n",
       "      <td>9998 33 10254 33 10510 33 10766 33 11022 33 11...</td>\n",
       "      <td>100</td>\n",
       "    </tr>\n",
       "  </tbody>\n",
       "</table>\n",
       "</div>"
      ],
      "text/plain": [
       "         ImageId  ClassId                                      EncodedPixels  \\\n",
       "0  0e650e720.jpg        4  271630 2 271885 5 272140 9 272396 11 272651 14...   \n",
       "1  6dfc0dc98.jpg        0                                                NaN   \n",
       "2  85be23fbf.jpg        0                                                NaN   \n",
       "3  194f48184.jpg        0                                                NaN   \n",
       "4  9ae440fd0.jpg        3  9998 33 10254 33 10510 33 10766 33 11022 33 11...   \n",
       "\n",
       "   Folder  \n",
       "0       9  \n",
       "1     231  \n",
       "2     244  \n",
       "3     181  \n",
       "4     100  "
      ]
     },
     "execution_count": 9,
     "metadata": {},
     "output_type": "execute_result"
    }
   ],
   "source": [
    "df = pd.read_csv(METADATA_PATH+'train_data.csv')\n",
    "\n",
    "total_examples = df.shape[0]\n",
    "unique_img = df.ImageId.unique().shape[0]\n",
    "imgs_with_no_defect = df.ImageId[df.ClassId == 0].shape[0]\n",
    "\n",
    "print('INFO:')\n",
    "print('\\tDefectID:\\t\\t\\t\\t\\t\\t{}'.format(sorted(df.ClassId.unique())))\n",
    "print('\\tNumber of examples:\\t\\t\\t\\t\\t{}'.format(total_examples))\n",
    "print('\\tNumber of unique images:\\t\\t\\t\\t{}\\n'.format(unique_img))\n",
    "\n",
    "print('\\tNumber of images with no defect:\\t\\t\\t{} ({:.2f}%)'\n",
    "      .format(imgs_with_no_defect, imgs_with_no_defect*100/unique_img))\n",
    "\n",
    "for i in range(1, 5):\n",
    "    imgs_with_one_defect = df.ImageId[df.ClassId == i].shape[0]\n",
    "    print('\\tNumber of images with type {} defect:\\t\\t\\t{} ({:.2f}%)'\n",
    "          .format(i, imgs_with_one_defect, imgs_with_one_defect*100/unique_img))\n",
    "df.head()"
   ]
  },
  {
   "cell_type": "code",
   "execution_count": 7,
   "metadata": {},
   "outputs": [
    {
     "name": "stdout",
     "output_type": "stream",
     "text": [
      "Class ID meaning:\t\t{0: 'No Defects', 1: 'Type 1', 2: 'Type 2', 3: 'Type 3', 4: 'Type 4'}\n",
      "Class Distribution:\t\t[3530, 459, 113, 2882, 301]\n",
      "Class Relative Distribution:\t[0.485, 0.063, 0.016, 0.396, 0.041]\n"
     ]
    }
   ],
   "source": [
    "class_dist = df.ClassId.value_counts().sort_index()\n",
    "ClassId2ClassName = {0: 'No Defects', 1:'Type 1', 2:'Type 2', 3:'Type 3', 4:'Type 4'}\n",
    "relative_fr = [round(i, 3) for i in class_dist.values/class_dist.sum()]\n",
    "print('Class ID meaning:\\t\\t{}'.format(ClassId2ClassName))\n",
    "print('Class Distribution:\\t\\t{}'.format(list(class_dist.values)))\n",
    "print('Class Relative Distribution:\\t{}'.format(relative_fr))"
   ]
  },
  {
   "cell_type": "code",
   "execution_count": 8,
   "metadata": {},
   "outputs": [
    {
     "data": {
      "image/png": "[encoded data removed]",
      "text/plain": [
       "<Figure size 1080x432 with 1 Axes>"
      ]
     },
     "metadata": {
      "needs_background": "light"
     },
     "output_type": "display_data"
    }
   ],
   "source": [
    "fig, ax = plt.subplots(1, 1, figsize = (15, 6))\n",
    "bar1 = ax.bar(ClassId2ClassName.values(), class_dist/class_dist.sum(),\n",
    "         color=['steelblue', 'cyan', 'red', 'green', 'blue'])\n",
    "ax.set_title('ClassID Distribution')\n",
    "ax.set_ylabel('Relative Frequency')\n",
    "ax.set_xlabel('ClassID')\n",
    "ax.grid()\n",
    "ax.set_ylim([0, 0.65])\n",
    "\n",
    "for i, rect in enumerate(bar1):\n",
    "    height = rect.get_height()\n",
    "    text = '{} ({:.3f})'.format(class_dist.values[i], height)\n",
    "    plt.text(rect.get_x() + rect.get_width()/2.0, height+0.003, text, ha='center', va='bottom')\n",
    "plt.show()"
   ]
  },
  {
   "cell_type": "markdown",
   "metadata": {},
   "source": [
    "### Validation Dataset"
   ]
  },
  {
   "cell_type": "code",
   "execution_count": 11,
   "metadata": {},
   "outputs": [
    {
     "name": "stdout",
     "output_type": "stream",
     "text": [
      "INFO:\n",
      "\tDefectID:\t\t\t\t\t\t[0, 1, 2, 3, 4]\n",
      "\tNumber of examples:\t\t\t\t\t2428\n",
      "\tNumber of unique images:\t\t\t\t2428\n",
      "\n",
      "\tNumber of images with no defect:\t\t\t1232 (50.74%)\n",
      "\tNumber of images with one defect:\t\t\t150 (6.18%)\n"
     ]
    },
    {
     "data": {
      "text/html": [
       "<div>\n",
       "<style scoped>\n",
       "    .dataframe tbody tr th:only-of-type {\n",
       "        vertical-align: middle;\n",
       "    }\n",
       "\n",
       "    .dataframe tbody tr th {\n",
       "        vertical-align: top;\n",
       "    }\n",
       "\n",
       "    .dataframe thead th {\n",
       "        text-align: right;\n",
       "    }\n",
       "</style>\n",
       "<table border=\"1\" class=\"dataframe\">\n",
       "  <thead>\n",
       "    <tr style=\"text-align: right;\">\n",
       "      <th></th>\n",
       "      <th>ImageId</th>\n",
       "      <th>ClassId</th>\n",
       "      <th>EncodedPixels</th>\n",
       "      <th>Folder</th>\n",
       "    </tr>\n",
       "  </thead>\n",
       "  <tbody>\n",
       "    <tr>\n",
       "      <th>0</th>\n",
       "      <td>c85251430.jpg</td>\n",
       "      <td>3</td>\n",
       "      <td>162314 33 162564 99 162819 250 163075 250 1633...</td>\n",
       "      <td>130</td>\n",
       "    </tr>\n",
       "    <tr>\n",
       "      <th>1</th>\n",
       "      <td>ab6530468.jpg</td>\n",
       "      <td>3</td>\n",
       "      <td>41985 22 42241 64 42497 107 42753 149 43009 19...</td>\n",
       "      <td>111</td>\n",
       "    </tr>\n",
       "    <tr>\n",
       "      <th>2</th>\n",
       "      <td>5ca2ccd75.jpg</td>\n",
       "      <td>3</td>\n",
       "      <td>159227 4 159476 11 159724 19 159973 26 160222 ...</td>\n",
       "      <td>59</td>\n",
       "    </tr>\n",
       "    <tr>\n",
       "      <th>3</th>\n",
       "      <td>18eeb26f7.jpg</td>\n",
       "      <td>0</td>\n",
       "      <td>NaN</td>\n",
       "      <td>181</td>\n",
       "    </tr>\n",
       "    <tr>\n",
       "      <th>4</th>\n",
       "      <td>6c52f92bc.jpg</td>\n",
       "      <td>0</td>\n",
       "      <td>NaN</td>\n",
       "      <td>231</td>\n",
       "    </tr>\n",
       "  </tbody>\n",
       "</table>\n",
       "</div>"
      ],
      "text/plain": [
       "         ImageId  ClassId                                      EncodedPixels  \\\n",
       "0  c85251430.jpg        3  162314 33 162564 99 162819 250 163075 250 1633...   \n",
       "1  ab6530468.jpg        3  41985 22 42241 64 42497 107 42753 149 43009 19...   \n",
       "2  5ca2ccd75.jpg        3  159227 4 159476 11 159724 19 159973 26 160222 ...   \n",
       "3  18eeb26f7.jpg        0                                                NaN   \n",
       "4  6c52f92bc.jpg        0                                                NaN   \n",
       "\n",
       "   Folder  \n",
       "0     130  \n",
       "1     111  \n",
       "2      59  \n",
       "3     181  \n",
       "4     231  "
      ]
     },
     "execution_count": 11,
     "metadata": {},
     "output_type": "execute_result"
    }
   ],
   "source": [
    "df = pd.read_csv(METADATA_PATH+'val_data.csv')\n",
    "\n",
    "total_examples = df.shape[0]\n",
    "unique_img = df.ImageId.unique().shape[0]\n",
    "imgs_with_no_defect = df.ImageId[df.ClassId == 0].shape[0]\n",
    "imgs_with_one_defect = df.ImageId[df.ClassId == 1].shape[0]\n",
    "\n",
    "print('INFO:')\n",
    "print('\\tDefectID:\\t\\t\\t\\t\\t\\t{}'.format(sorted(df.ClassId.unique())))\n",
    "print('\\tNumber of examples:\\t\\t\\t\\t\\t{}'.format(total_examples))\n",
    "print('\\tNumber of unique images:\\t\\t\\t\\t{}\\n'.format(unique_img))\n",
    "\n",
    "print('\\tNumber of images with no defect:\\t\\t\\t{} ({:.2f}%)'\n",
    "      .format(imgs_with_no_defect, imgs_with_no_defect*100/unique_img))\n",
    "\n",
    "print('\\tNumber of images with one defect:\\t\\t\\t{} ({:.2f}%)'\n",
    "      .format(imgs_with_one_defect, imgs_with_one_defect*100/unique_img))\n",
    "df.head()"
   ]
  },
  {
   "cell_type": "code",
   "execution_count": 12,
   "metadata": {},
   "outputs": [
    {
     "name": "stdout",
     "output_type": "stream",
     "text": [
      "Class ID meaning:\t\t{0: 'No Defects', 1: 'Type 1', 2: 'Type 2', 3: 'Type 3', 4: 'Type 4'}\n",
      "Class Distribution:\t\t[1232, 150, 38, 908, 100]\n",
      "Class Relative Distribution:\t[0.507, 0.062, 0.016, 0.374, 0.041]\n"
     ]
    }
   ],
   "source": [
    "class_dist = df.ClassId.value_counts().sort_index()\n",
    "ClassId2ClassName = {0: 'No Defects', 1:'Type 1', 2:'Type 2', 3:'Type 3', 4:'Type 4'}\n",
    "relative_fr = [round(i, 3) for i in class_dist.values/class_dist.sum()]\n",
    "print('Class ID meaning:\\t\\t{}'.format(ClassId2ClassName))\n",
    "print('Class Distribution:\\t\\t{}'.format(list(class_dist.values)))\n",
    "print('Class Relative Distribution:\\t{}'.format(relative_fr))"
   ]
  },
  {
   "cell_type": "code",
   "execution_count": 13,
   "metadata": {},
   "outputs": [
    {
     "data": {
      "image/png": "[encoded data removed]",
      "text/plain": [
       "<Figure size 1080x432 with 1 Axes>"
      ]
     },
     "metadata": {
      "needs_background": "light"
     },
     "output_type": "display_data"
    }
   ],
   "source": [
    "fig, ax = plt.subplots(1, 1, figsize = (15, 6))\n",
    "bar1 = ax.bar(ClassId2ClassName.values(), class_dist/class_dist.sum(),\n",
    "         color=['steelblue', 'cyan', 'red', 'green', 'blue'])\n",
    "ax.set_title('ClassID Distribution')\n",
    "ax.set_ylabel('Relative Frequency')\n",
    "ax.set_xlabel('ClassID')\n",
    "ax.grid()\n",
    "ax.set_ylim([0, 0.65])\n",
    "\n",
    "for i, rect in enumerate(bar1):\n",
    "    height = rect.get_height()\n",
    "    text = '{} ({:.3f})'.format(class_dist.values[i], height)\n",
    "    plt.text(rect.get_x() + rect.get_width()/2.0, height+0.003, text, ha='center', va='bottom')\n",
    "plt.show()"
   ]
  },
  {
   "cell_type": "markdown",
   "metadata": {},
   "source": [
    "### Test Set"
   ]
  },
  {
   "cell_type": "code",
   "execution_count": 14,
   "metadata": {},
   "outputs": [
    {
     "name": "stdout",
     "output_type": "stream",
     "text": [
      "INFO:\n",
      "\tDefectID:\t\t\t\t\t\t[0, 1, 2, 3, 4]\n",
      "\tNumber of examples:\t\t\t\t\t2428\n",
      "\tNumber of unique images:\t\t\t\t2428\n",
      "\n",
      "\tNumber of images with no defect:\t\t\t1140 (46.95%)\n",
      "\tNumber of images with one defect:\t\t\t160 (6.59%)\n"
     ]
    },
    {
     "data": {
      "text/html": [
       "<div>\n",
       "<style scoped>\n",
       "    .dataframe tbody tr th:only-of-type {\n",
       "        vertical-align: middle;\n",
       "    }\n",
       "\n",
       "    .dataframe tbody tr th {\n",
       "        vertical-align: top;\n",
       "    }\n",
       "\n",
       "    .dataframe thead th {\n",
       "        text-align: right;\n",
       "    }\n",
       "</style>\n",
       "<table border=\"1\" class=\"dataframe\">\n",
       "  <thead>\n",
       "    <tr style=\"text-align: right;\">\n",
       "      <th></th>\n",
       "      <th>ImageId</th>\n",
       "      <th>ClassId</th>\n",
       "      <th>EncodedPixels</th>\n",
       "      <th>Folder</th>\n",
       "    </tr>\n",
       "  </thead>\n",
       "  <tbody>\n",
       "    <tr>\n",
       "      <th>0</th>\n",
       "      <td>bd9e49b45.jpg</td>\n",
       "      <td>0</td>\n",
       "      <td>NaN</td>\n",
       "      <td>276</td>\n",
       "    </tr>\n",
       "    <tr>\n",
       "      <th>1</th>\n",
       "      <td>0f3de4dde.jpg</td>\n",
       "      <td>0</td>\n",
       "      <td>NaN</td>\n",
       "      <td>175</td>\n",
       "    </tr>\n",
       "    <tr>\n",
       "      <th>2</th>\n",
       "      <td>1e4e988cd.jpg</td>\n",
       "      <td>3</td>\n",
       "      <td>301173 2 301425 7 301660 2 301680 8 301914 4 3...</td>\n",
       "      <td>19</td>\n",
       "    </tr>\n",
       "    <tr>\n",
       "      <th>3</th>\n",
       "      <td>d5b2ba152.jpg</td>\n",
       "      <td>3</td>\n",
       "      <td>129283 43 129539 127 129795 211 130051 254 130...</td>\n",
       "      <td>139</td>\n",
       "    </tr>\n",
       "    <tr>\n",
       "      <th>4</th>\n",
       "      <td>8d02760e9.jpg</td>\n",
       "      <td>0</td>\n",
       "      <td>NaN</td>\n",
       "      <td>249</td>\n",
       "    </tr>\n",
       "  </tbody>\n",
       "</table>\n",
       "</div>"
      ],
      "text/plain": [
       "         ImageId  ClassId                                      EncodedPixels  \\\n",
       "0  bd9e49b45.jpg        0                                                NaN   \n",
       "1  0f3de4dde.jpg        0                                                NaN   \n",
       "2  1e4e988cd.jpg        3  301173 2 301425 7 301660 2 301680 8 301914 4 3...   \n",
       "3  d5b2ba152.jpg        3  129283 43 129539 127 129795 211 130051 254 130...   \n",
       "4  8d02760e9.jpg        0                                                NaN   \n",
       "\n",
       "   Folder  \n",
       "0     276  \n",
       "1     175  \n",
       "2      19  \n",
       "3     139  \n",
       "4     249  "
      ]
     },
     "execution_count": 14,
     "metadata": {},
     "output_type": "execute_result"
    }
   ],
   "source": [
    "df = pd.read_csv(METADATA_PATH+'test_data.csv')\n",
    "\n",
    "total_examples = df.shape[0]\n",
    "unique_img = df.ImageId.unique().shape[0]\n",
    "imgs_with_no_defect = df.ImageId[df.ClassId == 0].shape[0]\n",
    "imgs_with_one_defect = df.ImageId[df.ClassId == 1].shape[0]\n",
    "\n",
    "print('INFO:')\n",
    "print('\\tDefectID:\\t\\t\\t\\t\\t\\t{}'.format(sorted(df.ClassId.unique())))\n",
    "print('\\tNumber of examples:\\t\\t\\t\\t\\t{}'.format(total_examples))\n",
    "print('\\tNumber of unique images:\\t\\t\\t\\t{}\\n'.format(unique_img))\n",
    "\n",
    "print('\\tNumber of images with no defect:\\t\\t\\t{} ({:.2f}%)'\n",
    "      .format(imgs_with_no_defect, imgs_with_no_defect*100/unique_img))\n",
    "\n",
    "print('\\tNumber of images with one defect:\\t\\t\\t{} ({:.2f}%)'\n",
    "      .format(imgs_with_one_defect, imgs_with_one_defect*100/unique_img))\n",
    "df.head()"
   ]
  },
  {
   "cell_type": "code",
   "execution_count": 15,
   "metadata": {},
   "outputs": [
    {
     "name": "stdout",
     "output_type": "stream",
     "text": [
      "Class ID meaning:\t\t{0: 'No Defects', 1: 'Type 1', 2: 'Type 2', 3: 'Type 3', 4: 'Type 4'}\n",
      "Class Distribution:\t\t[1140, 160, 44, 969, 115]\n",
      "Class Relative Distribution:\t[0.47, 0.066, 0.018, 0.399, 0.047]\n"
     ]
    }
   ],
   "source": [
    "class_dist = df.ClassId.value_counts().sort_index()\n",
    "ClassId2ClassName = {0: 'No Defects', 1:'Type 1', 2:'Type 2', 3:'Type 3', 4:'Type 4'}\n",
    "relative_fr = [round(i, 3) for i in class_dist.values/class_dist.sum()]\n",
    "print('Class ID meaning:\\t\\t{}'.format(ClassId2ClassName))\n",
    "print('Class Distribution:\\t\\t{}'.format(list(class_dist.values)))\n",
    "print('Class Relative Distribution:\\t{}'.format(relative_fr))"
   ]
  },
  {
   "cell_type": "code",
   "execution_count": 16,
   "metadata": {},
   "outputs": [
    {
     "data": {
      "image/png": "[encoded data removed]",
      "text/plain": [
       "<Figure size 1080x432 with 1 Axes>"
      ]
     },
     "metadata": {
      "needs_background": "light"
     },
     "output_type": "display_data"
    }
   ],
   "source": [
    "fig, ax = plt.subplots(1, 1, figsize = (15, 6))\n",
    "bar1 = ax.bar(ClassId2ClassName.values(), class_dist/class_dist.sum(),\n",
    "         color=['steelblue', 'cyan', 'red', 'green', 'blue'])\n",
    "ax.set_title('ClassID Distribution')\n",
    "ax.set_ylabel('Relative Frequency')\n",
    "ax.set_xlabel('ClassID')\n",
    "ax.grid()\n",
    "ax.set_ylim([0, 0.65])\n",
    "\n",
    "for i, rect in enumerate(bar1):\n",
    "    height = rect.get_height()\n",
    "    text = '{} ({:.3f})'.format(class_dist.values[i], height)\n",
    "    plt.text(rect.get_x() + rect.get_width()/2.0, height+0.003, text, ha='center', va='bottom')\n",
    "plt.show()"
   ]
  }
 ],
 "metadata": {
  "kernelspec": {
   "display_name": "Python 3",
   "language": "python",
   "name": "python3"
  },
  "language_info": {
   "codemirror_mode": {
    "name": "ipython",
    "version": 3
   },
   "file_extension": ".py",
   "mimetype": "text/x-python",
   "name": "python",
   "nbconvert_exporter": "python",
   "pygments_lexer": "ipython3",
   "version": "3.6.8"
  }
 },
 "nbformat": 4,
 "nbformat_minor": 4
}

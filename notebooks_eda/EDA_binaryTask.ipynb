{
 "cells": [
  {
   "cell_type": "markdown",
   "metadata": {},
   "source": [
    "# EDA for the binary classification task"
   ]
  },
  {
   "cell_type": "markdown",
   "metadata": {},
   "source": [
    "### Requirments"
   ]
  },
  {
   "cell_type": "code",
   "execution_count": 1,
   "metadata": {},
   "outputs": [],
   "source": [
    "import pandas as pd\n",
    "import numpy as np\n",
    "import matplotlib.pyplot as plt"
   ]
  },
  {
   "cell_type": "markdown",
   "metadata": {},
   "source": [
    "### Parameters"
   ]
  },
  {
   "cell_type": "code",
   "execution_count": 2,
   "metadata": {},
   "outputs": [],
   "source": [
    "METADATA_PATH = '../data/binaryData/'\n",
    "LABEL_MULTI = ['No Defect', 'Defects']   "
   ]
  },
  {
   "cell_type": "markdown",
   "metadata": {},
   "source": [
    "### Binary Dataset"
   ]
  },
  {
   "cell_type": "code",
   "execution_count": 3,
   "metadata": {},
   "outputs": [
    {
     "name": "stdout",
     "output_type": "stream",
     "text": [
      "INFO:\n",
      "\tDefectID:\t\t\t\t\t\t[0, 1]\n",
      "\tNumber of examples:\t\t\t\t\t12568\n",
      "\tNumber of unique images:\t\t\t\t12568\n",
      "\n",
      "\tNumber of images with no defect:\t\t\t5902 (46.96%)\n",
      "\tNumber of images with one defect:\t\t\t6666 (53.04%)\n"
     ]
    },
    {
     "data": {
      "text/html": [
       "<div>\n",
       "<style scoped>\n",
       "    .dataframe tbody tr th:only-of-type {\n",
       "        vertical-align: middle;\n",
       "    }\n",
       "\n",
       "    .dataframe tbody tr th {\n",
       "        vertical-align: top;\n",
       "    }\n",
       "\n",
       "    .dataframe thead th {\n",
       "        text-align: right;\n",
       "    }\n",
       "</style>\n",
       "<table border=\"1\" class=\"dataframe\">\n",
       "  <thead>\n",
       "    <tr style=\"text-align: right;\">\n",
       "      <th></th>\n",
       "      <th>ImageId</th>\n",
       "      <th>ClassId</th>\n",
       "      <th>EncodedPixels</th>\n",
       "      <th>Folder</th>\n",
       "    </tr>\n",
       "  </thead>\n",
       "  <tbody>\n",
       "    <tr>\n",
       "      <th>0</th>\n",
       "      <td>0002cc93b.jpg</td>\n",
       "      <td>1</td>\n",
       "      <td>29102 12 29346 24 29602 24 29858 24 30114 24 3...</td>\n",
       "      <td>0</td>\n",
       "    </tr>\n",
       "    <tr>\n",
       "      <th>1</th>\n",
       "      <td>0007a71bf.jpg</td>\n",
       "      <td>1</td>\n",
       "      <td>18661 28 18863 82 19091 110 19347 110 19603 11...</td>\n",
       "      <td>0</td>\n",
       "    </tr>\n",
       "    <tr>\n",
       "      <th>2</th>\n",
       "      <td>000a4bcdd.jpg</td>\n",
       "      <td>1</td>\n",
       "      <td>37607 3 37858 8 38108 14 38359 20 38610 25 388...</td>\n",
       "      <td>0</td>\n",
       "    </tr>\n",
       "    <tr>\n",
       "      <th>3</th>\n",
       "      <td>000f6bf48.jpg</td>\n",
       "      <td>1</td>\n",
       "      <td>131973 1 132228 4 132483 6 132738 8 132993 11 ...</td>\n",
       "      <td>0</td>\n",
       "    </tr>\n",
       "    <tr>\n",
       "      <th>4</th>\n",
       "      <td>0014fce06.jpg</td>\n",
       "      <td>1</td>\n",
       "      <td>229501 11 229741 33 229981 55 230221 77 230468...</td>\n",
       "      <td>0</td>\n",
       "    </tr>\n",
       "  </tbody>\n",
       "</table>\n",
       "</div>"
      ],
      "text/plain": [
       "         ImageId  ClassId                                      EncodedPixels  \\\n",
       "0  0002cc93b.jpg        1  29102 12 29346 24 29602 24 29858 24 30114 24 3...   \n",
       "1  0007a71bf.jpg        1  18661 28 18863 82 19091 110 19347 110 19603 11...   \n",
       "2  000a4bcdd.jpg        1  37607 3 37858 8 38108 14 38359 20 38610 25 388...   \n",
       "3  000f6bf48.jpg        1  131973 1 132228 4 132483 6 132738 8 132993 11 ...   \n",
       "4  0014fce06.jpg        1  229501 11 229741 33 229981 55 230221 77 230468...   \n",
       "\n",
       "   Folder  \n",
       "0       0  \n",
       "1       0  \n",
       "2       0  \n",
       "3       0  \n",
       "4       0  "
      ]
     },
     "execution_count": 3,
     "metadata": {},
     "output_type": "execute_result"
    }
   ],
   "source": [
    "df = pd.read_csv(METADATA_PATH+'binary_task_data.csv')\n",
    "\n",
    "total_examples = df.shape[0]\n",
    "unique_img = df.ImageId.unique().shape[0]\n",
    "imgs_with_no_defect = df.ImageId[df.ClassId == 0].shape[0]\n",
    "imgs_with_one_defect = df.ImageId[df.ClassId == 1].shape[0]\n",
    "\n",
    "print('INFO:')\n",
    "print('\\tDefectID:\\t\\t\\t\\t\\t\\t{}'.format(sorted(df.ClassId.unique())))\n",
    "print('\\tNumber of examples:\\t\\t\\t\\t\\t{}'.format(total_examples))\n",
    "print('\\tNumber of unique images:\\t\\t\\t\\t{}\\n'.format(unique_img))\n",
    "\n",
    "print('\\tNumber of images with no defect:\\t\\t\\t{} ({:.2f}%)'\n",
    "      .format(imgs_with_no_defect, imgs_with_no_defect*100/unique_img))\n",
    "\n",
    "print('\\tNumber of images with one defect:\\t\\t\\t{} ({:.2f}%)'\n",
    "      .format(imgs_with_one_defect, imgs_with_one_defect*100/unique_img))\n",
    "df.head()"
   ]
  },
  {
   "cell_type": "code",
   "execution_count": 4,
   "metadata": {},
   "outputs": [
    {
     "name": "stdout",
     "output_type": "stream",
     "text": [
      "Class ID meaning:\t\t{0: 'No Defects', 1: 'Defects'}\n",
      "Class Distribution:\t\t[5902, 6666]\n",
      "Class Relative Distribution:\t[0.47, 0.53]\n"
     ]
    }
   ],
   "source": [
    "class_dist = df.ClassId.value_counts().sort_index()\n",
    "ClassId2ClassName = {0: 'No Defects', 1:'Defects'}\n",
    "relative_fr = [round(i, 3) for i in class_dist.values/class_dist.sum()]\n",
    "print('Class ID meaning:\\t\\t{}'.format(ClassId2ClassName))\n",
    "print('Class Distribution:\\t\\t{}'.format(list(class_dist.values)))\n",
    "print('Class Relative Distribution:\\t{}'.format(relative_fr))"
   ]
  },
  {
   "cell_type": "code",
   "execution_count": 5,
   "metadata": {},
   "outputs": [
    {
     "data": {
      "image/png": "[encoded data removed]",
      "text/plain": [
       "<Figure size 1080x432 with 1 Axes>"
      ]
     },
     "metadata": {
      "needs_background": "light"
     },
     "output_type": "display_data"
    }
   ],
   "source": [
    "fig, ax = plt.subplots(1, 1, figsize = (15, 6))\n",
    "bar1 = ax.bar(ClassId2ClassName.values(), class_dist/class_dist.sum(),\n",
    "         color=['cyan', 'red'])\n",
    "ax.set_title('ClassID Distribution')\n",
    "ax.set_ylabel('Relative Frequency')\n",
    "ax.set_xlabel('ClassID')\n",
    "ax.grid()\n",
    "ax.set_ylim([0, 0.65])\n",
    "\n",
    "for i, rect in enumerate(bar1):\n",
    "    height = rect.get_height()\n",
    "    text = '{} ({:.3f})'.format(class_dist.values[i], height)\n",
    "    plt.text(rect.get_x() + rect.get_width()/2.0, height+0.003, text, ha='center', va='bottom')\n",
    "plt.show()"
   ]
  },
  {
   "cell_type": "markdown",
   "metadata": {},
   "source": [
    "### Train Dataset"
   ]
  },
  {
   "cell_type": "code",
   "execution_count": 6,
   "metadata": {},
   "outputs": [
    {
     "name": "stdout",
     "output_type": "stream",
     "text": [
      "INFO:\n",
      "\tDefectID:\t\t\t\t\t\t[0, 1]\n",
      "\tNumber of examples:\t\t\t\t\t7541\n",
      "\tNumber of unique images:\t\t\t\t7541\n",
      "\n",
      "\tNumber of images with no defect:\t\t\t3581 (47.49%)\n",
      "\tNumber of images with one defect:\t\t\t3960 (52.51%)\n"
     ]
    },
    {
     "data": {
      "text/html": [
       "<div>\n",
       "<style scoped>\n",
       "    .dataframe tbody tr th:only-of-type {\n",
       "        vertical-align: middle;\n",
       "    }\n",
       "\n",
       "    .dataframe tbody tr th {\n",
       "        vertical-align: top;\n",
       "    }\n",
       "\n",
       "    .dataframe thead th {\n",
       "        text-align: right;\n",
       "    }\n",
       "</style>\n",
       "<table border=\"1\" class=\"dataframe\">\n",
       "  <thead>\n",
       "    <tr style=\"text-align: right;\">\n",
       "      <th></th>\n",
       "      <th>ImageId</th>\n",
       "      <th>ClassId</th>\n",
       "      <th>EncodedPixels</th>\n",
       "      <th>Folder</th>\n",
       "    </tr>\n",
       "  </thead>\n",
       "  <tbody>\n",
       "    <tr>\n",
       "      <th>0</th>\n",
       "      <td>d2e68511e.jpg</td>\n",
       "      <td>0</td>\n",
       "      <td>NaN</td>\n",
       "      <td>288</td>\n",
       "    </tr>\n",
       "    <tr>\n",
       "      <th>1</th>\n",
       "      <td>d8a2472a7.jpg</td>\n",
       "      <td>0</td>\n",
       "      <td>NaN</td>\n",
       "      <td>291</td>\n",
       "    </tr>\n",
       "    <tr>\n",
       "      <th>2</th>\n",
       "      <td>320557243.jpg</td>\n",
       "      <td>1</td>\n",
       "      <td>351536 6 351786 16 352022 41 352261 63 352516 ...</td>\n",
       "      <td>32</td>\n",
       "    </tr>\n",
       "    <tr>\n",
       "      <th>3</th>\n",
       "      <td>74b9e429d.jpg</td>\n",
       "      <td>0</td>\n",
       "      <td>NaN</td>\n",
       "      <td>235</td>\n",
       "    </tr>\n",
       "    <tr>\n",
       "      <th>4</th>\n",
       "      <td>6c1118c1b.jpg</td>\n",
       "      <td>1</td>\n",
       "      <td>65249 32 65442 95 65636 157 65829 220 66053 25...</td>\n",
       "      <td>69</td>\n",
       "    </tr>\n",
       "  </tbody>\n",
       "</table>\n",
       "</div>"
      ],
      "text/plain": [
       "         ImageId  ClassId                                      EncodedPixels  \\\n",
       "0  d2e68511e.jpg        0                                                NaN   \n",
       "1  d8a2472a7.jpg        0                                                NaN   \n",
       "2  320557243.jpg        1  351536 6 351786 16 352022 41 352261 63 352516 ...   \n",
       "3  74b9e429d.jpg        0                                                NaN   \n",
       "4  6c1118c1b.jpg        1  65249 32 65442 95 65636 157 65829 220 66053 25...   \n",
       "\n",
       "   Folder  \n",
       "0     288  \n",
       "1     291  \n",
       "2      32  \n",
       "3     235  \n",
       "4      69  "
      ]
     },
     "execution_count": 6,
     "metadata": {},
     "output_type": "execute_result"
    }
   ],
   "source": [
    "df = pd.read_csv(METADATA_PATH+'train_data.csv')\n",
    "\n",
    "total_examples = df.shape[0]\n",
    "unique_img = df.ImageId.unique().shape[0]\n",
    "imgs_with_no_defect = df.ImageId[df.ClassId == 0].shape[0]\n",
    "imgs_with_one_defect = df.ImageId[df.ClassId == 1].shape[0]\n",
    "\n",
    "print('INFO:')\n",
    "print('\\tDefectID:\\t\\t\\t\\t\\t\\t{}'.format(sorted(df.ClassId.unique())))\n",
    "print('\\tNumber of examples:\\t\\t\\t\\t\\t{}'.format(total_examples))\n",
    "print('\\tNumber of unique images:\\t\\t\\t\\t{}\\n'.format(unique_img))\n",
    "\n",
    "print('\\tNumber of images with no defect:\\t\\t\\t{} ({:.2f}%)'\n",
    "      .format(imgs_with_no_defect, imgs_with_no_defect*100/unique_img))\n",
    "\n",
    "print('\\tNumber of images with one defect:\\t\\t\\t{} ({:.2f}%)'\n",
    "      .format(imgs_with_one_defect, imgs_with_one_defect*100/unique_img))\n",
    "df.head()"
   ]
  },
  {
   "cell_type": "code",
   "execution_count": 7,
   "metadata": {},
   "outputs": [
    {
     "name": "stdout",
     "output_type": "stream",
     "text": [
      "Class ID meaning:\t\t{0: 'No Defects', 1: 'Defects'}\n",
      "Class Distribution:\t\t[3581, 3960]\n",
      "Class Relative Distribution:\t[0.475, 0.525]\n"
     ]
    }
   ],
   "source": [
    "class_dist = df.ClassId.value_counts().sort_index()\n",
    "ClassId2ClassName = {0: 'No Defects', 1:'Defects'}\n",
    "relative_fr = [round(i, 3) for i in class_dist.values/class_dist.sum()]\n",
    "print('Class ID meaning:\\t\\t{}'.format(ClassId2ClassName))\n",
    "print('Class Distribution:\\t\\t{}'.format(list(class_dist.values)))\n",
    "print('Class Relative Distribution:\\t{}'.format(relative_fr))"
   ]
  },
  {
   "cell_type": "code",
   "execution_count": 8,
   "metadata": {},
   "outputs": [
    {
     "data": {
      "image/png": "[encoded data removed]",
      "text/plain": [
       "<Figure size 1080x432 with 1 Axes>"
      ]
     },
     "metadata": {
      "needs_background": "light"
     },
     "output_type": "display_data"
    }
   ],
   "source": [
    "fig, ax = plt.subplots(1, 1, figsize = (15, 6))\n",
    "bar1 = ax.bar(ClassId2ClassName.values(), class_dist/class_dist.sum(),\n",
    "         color=['cyan', 'red'])\n",
    "ax.set_title('ClassID Distribution')\n",
    "ax.set_ylabel('Relative Frequency')\n",
    "ax.set_xlabel('ClassID')\n",
    "ax.grid()\n",
    "ax.set_ylim([0, 0.65])\n",
    "\n",
    "for i, rect in enumerate(bar1):\n",
    "    height = rect.get_height()\n",
    "    text = '{} ({:.3f})'.format(class_dist.values[i], height)\n",
    "    plt.text(rect.get_x() + rect.get_width()/2.0, height+0.003, text, ha='center', va='bottom')\n",
    "plt.show()"
   ]
  },
  {
   "cell_type": "markdown",
   "metadata": {},
   "source": [
    "### Validation Dataset"
   ]
  },
  {
   "cell_type": "code",
   "execution_count": 9,
   "metadata": {},
   "outputs": [
    {
     "name": "stdout",
     "output_type": "stream",
     "text": [
      "INFO:\n",
      "\tDefectID:\t\t\t\t\t\t[0, 1]\n",
      "\tNumber of examples:\t\t\t\t\t2514\n",
      "\tNumber of unique images:\t\t\t\t2514\n",
      "\n",
      "\tNumber of images with no defect:\t\t\t1134 (45.11%)\n",
      "\tNumber of images with one defect:\t\t\t1380 (54.89%)\n"
     ]
    },
    {
     "data": {
      "text/html": [
       "<div>\n",
       "<style scoped>\n",
       "    .dataframe tbody tr th:only-of-type {\n",
       "        vertical-align: middle;\n",
       "    }\n",
       "\n",
       "    .dataframe tbody tr th {\n",
       "        vertical-align: top;\n",
       "    }\n",
       "\n",
       "    .dataframe thead th {\n",
       "        text-align: right;\n",
       "    }\n",
       "</style>\n",
       "<table border=\"1\" class=\"dataframe\">\n",
       "  <thead>\n",
       "    <tr style=\"text-align: right;\">\n",
       "      <th></th>\n",
       "      <th>ImageId</th>\n",
       "      <th>ClassId</th>\n",
       "      <th>EncodedPixels</th>\n",
       "      <th>Folder</th>\n",
       "    </tr>\n",
       "  </thead>\n",
       "  <tbody>\n",
       "    <tr>\n",
       "      <th>0</th>\n",
       "      <td>84d30fb77.jpg</td>\n",
       "      <td>1</td>\n",
       "      <td>102037 1 102166 3 102291 5 102416 9 102545 8 1...</td>\n",
       "      <td>86</td>\n",
       "    </tr>\n",
       "    <tr>\n",
       "      <th>1</th>\n",
       "      <td>64f5988c1.jpg</td>\n",
       "      <td>0</td>\n",
       "      <td>NaN</td>\n",
       "      <td>226</td>\n",
       "    </tr>\n",
       "    <tr>\n",
       "      <th>2</th>\n",
       "      <td>ac03c1990.jpg</td>\n",
       "      <td>0</td>\n",
       "      <td>NaN</td>\n",
       "      <td>266</td>\n",
       "    </tr>\n",
       "    <tr>\n",
       "      <th>3</th>\n",
       "      <td>2c2fa2f81.jpg</td>\n",
       "      <td>0</td>\n",
       "      <td>NaN</td>\n",
       "      <td>192</td>\n",
       "    </tr>\n",
       "    <tr>\n",
       "      <th>4</th>\n",
       "      <td>a70390e7a.jpg</td>\n",
       "      <td>0</td>\n",
       "      <td>NaN</td>\n",
       "      <td>263</td>\n",
       "    </tr>\n",
       "  </tbody>\n",
       "</table>\n",
       "</div>"
      ],
      "text/plain": [
       "         ImageId  ClassId                                      EncodedPixels  \\\n",
       "0  84d30fb77.jpg        1  102037 1 102166 3 102291 5 102416 9 102545 8 1...   \n",
       "1  64f5988c1.jpg        0                                                NaN   \n",
       "2  ac03c1990.jpg        0                                                NaN   \n",
       "3  2c2fa2f81.jpg        0                                                NaN   \n",
       "4  a70390e7a.jpg        0                                                NaN   \n",
       "\n",
       "   Folder  \n",
       "0      86  \n",
       "1     226  \n",
       "2     266  \n",
       "3     192  \n",
       "4     263  "
      ]
     },
     "execution_count": 9,
     "metadata": {},
     "output_type": "execute_result"
    }
   ],
   "source": [
    "df = pd.read_csv(METADATA_PATH+'val_data.csv')\n",
    "\n",
    "total_examples = df.shape[0]\n",
    "unique_img = df.ImageId.unique().shape[0]\n",
    "imgs_with_no_defect = df.ImageId[df.ClassId == 0].shape[0]\n",
    "imgs_with_one_defect = df.ImageId[df.ClassId == 1].shape[0]\n",
    "\n",
    "print('INFO:')\n",
    "print('\\tDefectID:\\t\\t\\t\\t\\t\\t{}'.format(sorted(df.ClassId.unique())))\n",
    "print('\\tNumber of examples:\\t\\t\\t\\t\\t{}'.format(total_examples))\n",
    "print('\\tNumber of unique images:\\t\\t\\t\\t{}\\n'.format(unique_img))\n",
    "\n",
    "print('\\tNumber of images with no defect:\\t\\t\\t{} ({:.2f}%)'\n",
    "      .format(imgs_with_no_defect, imgs_with_no_defect*100/unique_img))\n",
    "\n",
    "print('\\tNumber of images with one defect:\\t\\t\\t{} ({:.2f}%)'\n",
    "      .format(imgs_with_one_defect, imgs_with_one_defect*100/unique_img))\n",
    "df.head()"
   ]
  },
  {
   "cell_type": "code",
   "execution_count": 10,
   "metadata": {},
   "outputs": [
    {
     "name": "stdout",
     "output_type": "stream",
     "text": [
      "Class ID meaning:\t\t{0: 'No Defects', 1: 'Defects'}\n",
      "Class Distribution:\t\t[1134, 1380]\n",
      "Class Relative Distribution:\t[0.451, 0.549]\n"
     ]
    }
   ],
   "source": [
    "class_dist = df.ClassId.value_counts().sort_index()\n",
    "ClassId2ClassName = {0: 'No Defects', 1:'Defects'}\n",
    "relative_fr = [round(i, 3) for i in class_dist.values/class_dist.sum()]\n",
    "print('Class ID meaning:\\t\\t{}'.format(ClassId2ClassName))\n",
    "print('Class Distribution:\\t\\t{}'.format(list(class_dist.values)))\n",
    "print('Class Relative Distribution:\\t{}'.format(relative_fr))"
   ]
  },
  {
   "cell_type": "code",
   "execution_count": 11,
   "metadata": {},
   "outputs": [
    {
     "data": {
      "image/png": "[encoded data removed]",
      "text/plain": [
       "<Figure size 1080x432 with 1 Axes>"
      ]
     },
     "metadata": {
      "needs_background": "light"
     },
     "output_type": "display_data"
    }
   ],
   "source": [
    "fig, ax = plt.subplots(1, 1, figsize = (15, 6))\n",
    "bar1 = ax.bar(ClassId2ClassName.values(), class_dist/class_dist.sum(),\n",
    "         color=['cyan', 'red'])\n",
    "ax.set_title('ClassID Distribution')\n",
    "ax.set_ylabel('Relative Frequency')\n",
    "ax.set_xlabel('ClassID')\n",
    "ax.grid()\n",
    "ax.set_ylim([0, 0.65])\n",
    "\n",
    "for i, rect in enumerate(bar1):\n",
    "    height = rect.get_height()\n",
    "    text = '{} ({:.3f})'.format(class_dist.values[i], height)\n",
    "    plt.text(rect.get_x() + rect.get_width()/2.0, height+0.003, text, ha='center', va='bottom')\n",
    "plt.show()"
   ]
  },
  {
   "cell_type": "markdown",
   "metadata": {},
   "source": [
    "### Test set"
   ]
  },
  {
   "cell_type": "code",
   "execution_count": 12,
   "metadata": {},
   "outputs": [
    {
     "name": "stdout",
     "output_type": "stream",
     "text": [
      "INFO:\n",
      "\tDefectID:\t\t\t\t\t\t[0, 1]\n",
      "\tNumber of examples:\t\t\t\t\t2513\n",
      "\tNumber of unique images:\t\t\t\t2513\n",
      "\n",
      "\tNumber of images with no defect:\t\t\t1187 (47.23%)\n",
      "\tNumber of images with one defect:\t\t\t1326 (52.77%)\n"
     ]
    },
    {
     "data": {
      "text/html": [
       "<div>\n",
       "<style scoped>\n",
       "    .dataframe tbody tr th:only-of-type {\n",
       "        vertical-align: middle;\n",
       "    }\n",
       "\n",
       "    .dataframe tbody tr th {\n",
       "        vertical-align: top;\n",
       "    }\n",
       "\n",
       "    .dataframe thead th {\n",
       "        text-align: right;\n",
       "    }\n",
       "</style>\n",
       "<table border=\"1\" class=\"dataframe\">\n",
       "  <thead>\n",
       "    <tr style=\"text-align: right;\">\n",
       "      <th></th>\n",
       "      <th>ImageId</th>\n",
       "      <th>ClassId</th>\n",
       "      <th>EncodedPixels</th>\n",
       "      <th>Folder</th>\n",
       "    </tr>\n",
       "  </thead>\n",
       "  <tbody>\n",
       "    <tr>\n",
       "      <th>0</th>\n",
       "      <td>cc82046b0.jpg</td>\n",
       "      <td>0</td>\n",
       "      <td>NaN</td>\n",
       "      <td>284</td>\n",
       "    </tr>\n",
       "    <tr>\n",
       "      <th>1</th>\n",
       "      <td>1e7893a11.jpg</td>\n",
       "      <td>1</td>\n",
       "      <td>162188 1 162443 3 162698 4 162952 7 163207 8 1...</td>\n",
       "      <td>19</td>\n",
       "    </tr>\n",
       "    <tr>\n",
       "      <th>2</th>\n",
       "      <td>fe44d3c92.jpg</td>\n",
       "      <td>0</td>\n",
       "      <td>NaN</td>\n",
       "      <td>313</td>\n",
       "    </tr>\n",
       "    <tr>\n",
       "      <th>3</th>\n",
       "      <td>9a70057c0.jpg</td>\n",
       "      <td>1</td>\n",
       "      <td>172 6 253 4 297 3 427 17 501 12 547 9 683 27 7...</td>\n",
       "      <td>99</td>\n",
       "    </tr>\n",
       "    <tr>\n",
       "      <th>4</th>\n",
       "      <td>a9e7b571e.jpg</td>\n",
       "      <td>1</td>\n",
       "      <td>21382 3 21634 9 21886 15 22139 20 22391 26 226...</td>\n",
       "      <td>110</td>\n",
       "    </tr>\n",
       "  </tbody>\n",
       "</table>\n",
       "</div>"
      ],
      "text/plain": [
       "         ImageId  ClassId                                      EncodedPixels  \\\n",
       "0  cc82046b0.jpg        0                                                NaN   \n",
       "1  1e7893a11.jpg        1  162188 1 162443 3 162698 4 162952 7 163207 8 1...   \n",
       "2  fe44d3c92.jpg        0                                                NaN   \n",
       "3  9a70057c0.jpg        1  172 6 253 4 297 3 427 17 501 12 547 9 683 27 7...   \n",
       "4  a9e7b571e.jpg        1  21382 3 21634 9 21886 15 22139 20 22391 26 226...   \n",
       "\n",
       "   Folder  \n",
       "0     284  \n",
       "1      19  \n",
       "2     313  \n",
       "3      99  \n",
       "4     110  "
      ]
     },
     "execution_count": 12,
     "metadata": {},
     "output_type": "execute_result"
    }
   ],
   "source": [
    "df = pd.read_csv(METADATA_PATH+'test_data.csv')\n",
    "\n",
    "total_examples = df.shape[0]\n",
    "unique_img = df.ImageId.unique().shape[0]\n",
    "imgs_with_no_defect = df.ImageId[df.ClassId == 0].shape[0]\n",
    "imgs_with_one_defect = df.ImageId[df.ClassId == 1].shape[0]\n",
    "\n",
    "print('INFO:')\n",
    "print('\\tDefectID:\\t\\t\\t\\t\\t\\t{}'.format(sorted(df.ClassId.unique())))\n",
    "print('\\tNumber of examples:\\t\\t\\t\\t\\t{}'.format(total_examples))\n",
    "print('\\tNumber of unique images:\\t\\t\\t\\t{}\\n'.format(unique_img))\n",
    "\n",
    "print('\\tNumber of images with no defect:\\t\\t\\t{} ({:.2f}%)'\n",
    "      .format(imgs_with_no_defect, imgs_with_no_defect*100/unique_img))\n",
    "\n",
    "print('\\tNumber of images with one defect:\\t\\t\\t{} ({:.2f}%)'\n",
    "      .format(imgs_with_one_defect, imgs_with_one_defect*100/unique_img))\n",
    "df.head()"
   ]
  },
  {
   "cell_type": "code",
   "execution_count": 13,
   "metadata": {},
   "outputs": [
    {
     "name": "stdout",
     "output_type": "stream",
     "text": [
      "Class ID meaning:\t\t{0: 'No Defects', 1: 'Defects'}\n",
      "Class Distribution:\t\t[1187, 1326]\n",
      "Class Relative Distribution:\t[0.472, 0.528]\n"
     ]
    }
   ],
   "source": [
    "class_dist = df.ClassId.value_counts().sort_index()\n",
    "ClassId2ClassName = {0: 'No Defects', 1:'Defects'}\n",
    "relative_fr = [round(i, 3) for i in class_dist.values/class_dist.sum()]\n",
    "print('Class ID meaning:\\t\\t{}'.format(ClassId2ClassName))\n",
    "print('Class Distribution:\\t\\t{}'.format(list(class_dist.values)))\n",
    "print('Class Relative Distribution:\\t{}'.format(relative_fr))"
   ]
  },
  {
   "cell_type": "code",
   "execution_count": 14,
   "metadata": {},
   "outputs": [
    {
     "data": {
      "image/png": "[encoded data removed]",
      "text/plain": [
       "<Figure size 1080x432 with 1 Axes>"
      ]
     },
     "metadata": {
      "needs_background": "light"
     },
     "output_type": "display_data"
    }
   ],
   "source": [
    "fig, ax = plt.subplots(1, 1, figsize = (15, 6))\n",
    "bar1 = ax.bar(ClassId2ClassName.values(), class_dist/class_dist.sum(),\n",
    "         color=['cyan', 'red'])\n",
    "ax.set_title('ClassID Distribution')\n",
    "ax.set_ylabel('Relative Frequency')\n",
    "ax.set_xlabel('ClassID')\n",
    "ax.grid()\n",
    "ax.set_ylim([0, 0.65])\n",
    "\n",
    "for i, rect in enumerate(bar1):\n",
    "    height = rect.get_height()\n",
    "    text = '{} ({:.3f})'.format(class_dist.values[i], height)\n",
    "    plt.text(rect.get_x() + rect.get_width()/2.0, height+0.003, text, ha='center', va='bottom')\n",
    "plt.show()"
   ]
  }
 ],
 "metadata": {
  "kernelspec": {
   "display_name": "Python 3",
   "language": "python",
   "name": "python3"
  },
  "language_info": {
   "codemirror_mode": {
    "name": "ipython",
    "version": 3
   },
   "file_extension": ".py",
   "mimetype": "text/x-python",
   "name": "python",
   "nbconvert_exporter": "python",
   "pygments_lexer": "ipython3",
   "version": "3.6.8"
  }
 },
 "nbformat": 4,
 "nbformat_minor": 4
}

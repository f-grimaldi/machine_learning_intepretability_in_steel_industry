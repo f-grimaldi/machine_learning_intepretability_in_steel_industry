{
 "cells": [
  {
   "cell_type": "markdown",
   "metadata": {},
   "source": [
    "## Explorative Data  Analysis of metadata\n",
    "**Data Source**: kaggle.com: https://www.kaggle.com/c/severstal-steel-defect-detection/overview <br>\n",
    "**Company**: Severstal: https://en.wikipedia.org/wiki/Severstal; https://www.severstal.com/eng/about/\n",
    "\n",
    "**Data Description**: <br>\n",
    "Images of dimension 3 x 1600 x 256, with informations about the presence of the defect, its type (*multiple chips on the surface/Single vertical cracks/Multiple vertical cracks/Multiple large surface patches*) and the location of it. <br>\n",
    "\n",
    "**EDA Results**: <br>\n",
    "The analysis showed a total of 12568 images, 5902 images (46.96%) had no defect, 6239 images (49.64%) had only one defect and the remaining 427 images (3.40%) had more than one defects. <br>\n",
    "The 5 classes (no defects + four defect type classes) are very unbalanced (look figure), in fact of the 12997 samples, the 85% percent has target *No Defect* or *Type 3*. The lowest represented class is *Type 2* with only 247 images (1.9%). <br>\n",
    "A further inspection of the images with more defects showed that only 2 images has 3 defects, the other 425 had 2 defects (284 with co-occurance of defects type 3 and type 4)."
   ]
  },
  {
   "cell_type": "markdown",
   "metadata": {},
   "source": [
    "### 1. Requirments"
   ]
  },
  {
   "cell_type": "code",
   "execution_count": 1,
   "metadata": {},
   "outputs": [],
   "source": [
    "import pandas as pd\n",
    "import numpy as np\n",
    "import matplotlib.pyplot as plt"
   ]
  },
  {
   "cell_type": "markdown",
   "metadata": {},
   "source": [
    "### 2. Parameters "
   ]
  },
  {
   "cell_type": "code",
   "execution_count": 152,
   "metadata": {},
   "outputs": [],
   "source": [
    "METADATA_PATH = 'data/data.csv'\n",
    "LABEL_MULTI = ['No Defect', 'Type 1', 'Type 2', 'Type 3', 'Type 4']   "
   ]
  },
  {
   "cell_type": "markdown",
   "metadata": {},
   "source": [
    "### 3. Analysis\n",
    "### Metadata dataframe"
   ]
  },
  {
   "cell_type": "code",
   "execution_count": 155,
   "metadata": {},
   "outputs": [
    {
     "name": "stdout",
     "output_type": "stream",
     "text": [
      "INFO:\n",
      "\tDefectID:\t\t\t\t\t\t[0, 1, 2, 3, 4]\n",
      "\tNumber of examples:\t\t\t\t\t12997\n",
      "\tNumber of unique images:\t\t\t\t12568\n",
      "\n",
      "\tNumber of images with no defect:\t\t\t5902 (46.96%)\n",
      "\tNumber of images with one defect:\t\t\t6239 (49.64%)\n",
      "\tNumber of images with more than one defect type:\t427  (3.40%) accounting for 856 defects\n"
     ]
    },
    {
     "data": {
      "text/html": [
       "<div>\n",
       "<style scoped>\n",
       "    .dataframe tbody tr th:only-of-type {\n",
       "        vertical-align: middle;\n",
       "    }\n",
       "\n",
       "    .dataframe tbody tr th {\n",
       "        vertical-align: top;\n",
       "    }\n",
       "\n",
       "    .dataframe thead th {\n",
       "        text-align: right;\n",
       "    }\n",
       "</style>\n",
       "<table border=\"1\" class=\"dataframe\">\n",
       "  <thead>\n",
       "    <tr style=\"text-align: right;\">\n",
       "      <th></th>\n",
       "      <th>ImageId</th>\n",
       "      <th>ClassId</th>\n",
       "      <th>EncodedPixels</th>\n",
       "    </tr>\n",
       "  </thead>\n",
       "  <tbody>\n",
       "    <tr>\n",
       "      <th>0</th>\n",
       "      <td>0002cc93b.jpg</td>\n",
       "      <td>1</td>\n",
       "      <td>29102 12 29346 24 29602 24 29858 24 30114 24 3...</td>\n",
       "    </tr>\n",
       "    <tr>\n",
       "      <th>1</th>\n",
       "      <td>0007a71bf.jpg</td>\n",
       "      <td>3</td>\n",
       "      <td>18661 28 18863 82 19091 110 19347 110 19603 11...</td>\n",
       "    </tr>\n",
       "    <tr>\n",
       "      <th>2</th>\n",
       "      <td>000a4bcdd.jpg</td>\n",
       "      <td>1</td>\n",
       "      <td>37607 3 37858 8 38108 14 38359 20 38610 25 388...</td>\n",
       "    </tr>\n",
       "    <tr>\n",
       "      <th>3</th>\n",
       "      <td>000f6bf48.jpg</td>\n",
       "      <td>4</td>\n",
       "      <td>131973 1 132228 4 132483 6 132738 8 132993 11 ...</td>\n",
       "    </tr>\n",
       "    <tr>\n",
       "      <th>4</th>\n",
       "      <td>0014fce06.jpg</td>\n",
       "      <td>3</td>\n",
       "      <td>229501 11 229741 33 229981 55 230221 77 230468...</td>\n",
       "    </tr>\n",
       "  </tbody>\n",
       "</table>\n",
       "</div>"
      ],
      "text/plain": [
       "         ImageId  ClassId                                      EncodedPixels\n",
       "0  0002cc93b.jpg        1  29102 12 29346 24 29602 24 29858 24 30114 24 3...\n",
       "1  0007a71bf.jpg        3  18661 28 18863 82 19091 110 19347 110 19603 11...\n",
       "2  000a4bcdd.jpg        1  37607 3 37858 8 38108 14 38359 20 38610 25 388...\n",
       "3  000f6bf48.jpg        4  131973 1 132228 4 132483 6 132738 8 132993 11 ...\n",
       "4  0014fce06.jpg        3  229501 11 229741 33 229981 55 230221 77 230468..."
      ]
     },
     "execution_count": 155,
     "metadata": {},
     "output_type": "execute_result"
    }
   ],
   "source": [
    "df = pd.read_csv(METADATA_PATH)\n",
    "\n",
    "total_examples = df.shape[0]\n",
    "unique_img = df.ImageId.unique().shape[0]\n",
    "imgs_with_no_defect = df.ImageId[df.ClassId == 0].unique().shape[0]\n",
    "imgs_with_one_defect = df.ImageId.value_counts()[df.ImageId.value_counts() == 1].shape[0] - imgs_with_no_defect\n",
    "imgs_with_more_defects = df.ImageId.value_counts()[df.ImageId.value_counts() > 1].shape[0]\n",
    "n_defects_img_with_more_defects = total_examples - imgs_with_no_defect - imgs_with_one_defect\n",
    "\n",
    "print('INFO:')\n",
    "print('\\tDefectID:\\t\\t\\t\\t\\t\\t{}'.format(sorted(df.ClassId.unique())))\n",
    "print('\\tNumber of examples:\\t\\t\\t\\t\\t{}'.format(total_examples))\n",
    "print('\\tNumber of unique images:\\t\\t\\t\\t{}\\n'.format(unique_img))\n",
    "\n",
    "print('\\tNumber of images with no defect:\\t\\t\\t{} ({:.2f}%)'\n",
    "      .format(imgs_with_no_defect, imgs_with_no_defect*100/unique_img))\n",
    "\n",
    "print('\\tNumber of images with one defect:\\t\\t\\t{} ({:.2f}%)'\n",
    "      .format(imgs_with_one_defect, imgs_with_one_defect*100/unique_img))\n",
    "\n",
    "print('\\tNumber of images with more than one defect type:\\t{}  ({:.2f}%) accounting for {} defects'\n",
    "      .format(imgs_with_more_defects, imgs_with_more_defects*100/unique_img, n_defects_img_with_more_defects))\n",
    "df.head()"
   ]
  },
  {
   "cell_type": "markdown",
   "metadata": {},
   "source": [
    "### Target Distribution"
   ]
  },
  {
   "cell_type": "code",
   "execution_count": 8,
   "metadata": {},
   "outputs": [
    {
     "name": "stdout",
     "output_type": "stream",
     "text": [
      "Class ID meaning:\t\t{0: 'No Defects', 1: 'Type 1', 2: 'Type 2', 3: 'Type 3', 4: 'Type 4'}\n",
      "Class Distribution:\t\t[5902, 897, 247, 5150, 801]\n",
      "Class Relative Distribution:\t[0.454, 0.069, 0.019, 0.396, 0.062]\n"
     ]
    }
   ],
   "source": [
    "class_dist = df.ClassId.value_counts().sort_index()\n",
    "ClassId2ClassName = {0: 'No Defects', 1:'Type 1', 2:'Type 2', 3:'Type 3', 4:'Type 4'}\n",
    "relative_fr = [round(i, 3) for i in class_dist.values/class_dist.sum()]\n",
    "print('Class ID meaning:\\t\\t{}'.format(ClassId2ClassName))\n",
    "print('Class Distribution:\\t\\t{}'.format(list(class_dist.values)))\n",
    "print('Class Relative Distribution:\\t{}'.format(relative_fr))"
   ]
  },
  {
   "cell_type": "code",
   "execution_count": 37,
   "metadata": {},
   "outputs": [
    {
     "data": {
      "image/png": "[encoded data removed]",
      "text/plain": [
       "<Figure size 1080x432 with 1 Axes>"
      ]
     },
     "metadata": {
      "needs_background": "light"
     },
     "output_type": "display_data"
    }
   ],
   "source": [
    "fig, ax = plt.subplots(1, 1, figsize = (15, 6))\n",
    "bar1 = ax.bar(ClassId2ClassName.values(), class_dist/class_dist.sum(),\n",
    "         color=['steelblue', 'cyan', 'red', 'green', 'blue'])\n",
    "ax.set_title('ClassID Distribution')\n",
    "ax.set_ylabel('Relative Frequency')\n",
    "ax.set_xlabel('ClassID')\n",
    "ax.grid()\n",
    "ax.set_ylim([0, 0.55])\n",
    "\n",
    "for i, rect in enumerate(bar1):\n",
    "    height = rect.get_height()\n",
    "    text = '{} ({:.3f})'.format(class_dist.values[i], height)\n",
    "    plt.text(rect.get_x() + rect.get_width()/2.0, height+0.003, text, ha='center', va='bottom')\n",
    "plt.show()"
   ]
  },
  {
   "cell_type": "markdown",
   "metadata": {},
   "source": [
    "### Non uniqueness data analysis"
   ]
  },
  {
   "cell_type": "code",
   "execution_count": 39,
   "metadata": {},
   "outputs": [
    {
     "data": {
      "text/html": [
       "<div>\n",
       "<style scoped>\n",
       "    .dataframe tbody tr th:only-of-type {\n",
       "        vertical-align: middle;\n",
       "    }\n",
       "\n",
       "    .dataframe tbody tr th {\n",
       "        vertical-align: top;\n",
       "    }\n",
       "\n",
       "    .dataframe thead th {\n",
       "        text-align: right;\n",
       "    }\n",
       "</style>\n",
       "<table border=\"1\" class=\"dataframe\">\n",
       "  <thead>\n",
       "    <tr style=\"text-align: right;\">\n",
       "      <th></th>\n",
       "      <th>ImageId</th>\n",
       "      <th>ClassId</th>\n",
       "      <th>EncodedPixels</th>\n",
       "    </tr>\n",
       "  </thead>\n",
       "  <tbody>\n",
       "    <tr>\n",
       "      <th>5</th>\n",
       "      <td>0025bde0c.jpg</td>\n",
       "      <td>3</td>\n",
       "      <td>8458 14 8707 35 8963 48 9219 71 9475 88 9731 8...</td>\n",
       "    </tr>\n",
       "    <tr>\n",
       "      <th>6</th>\n",
       "      <td>0025bde0c.jpg</td>\n",
       "      <td>4</td>\n",
       "      <td>315139 8 315395 15 315651 16 315906 17 316162 ...</td>\n",
       "    </tr>\n",
       "    <tr>\n",
       "      <th>8</th>\n",
       "      <td>002fc4e19.jpg</td>\n",
       "      <td>1</td>\n",
       "      <td>146021 3 146275 10 146529 40 146783 46 147038 ...</td>\n",
       "    </tr>\n",
       "    <tr>\n",
       "      <th>9</th>\n",
       "      <td>002fc4e19.jpg</td>\n",
       "      <td>2</td>\n",
       "      <td>145658 7 145901 20 146144 33 146386 47 146629 ...</td>\n",
       "    </tr>\n",
       "    <tr>\n",
       "      <th>18</th>\n",
       "      <td>008ef3d74.jpg</td>\n",
       "      <td>1</td>\n",
       "      <td>356336 4 356587 11 356838 18 357089 25 357340 ...</td>\n",
       "    </tr>\n",
       "  </tbody>\n",
       "</table>\n",
       "</div>"
      ],
      "text/plain": [
       "          ImageId  ClassId                                      EncodedPixels\n",
       "5   0025bde0c.jpg        3  8458 14 8707 35 8963 48 9219 71 9475 88 9731 8...\n",
       "6   0025bde0c.jpg        4  315139 8 315395 15 315651 16 315906 17 316162 ...\n",
       "8   002fc4e19.jpg        1  146021 3 146275 10 146529 40 146783 46 147038 ...\n",
       "9   002fc4e19.jpg        2  145658 7 145901 20 146144 33 146386 47 146629 ...\n",
       "18  008ef3d74.jpg        1  356336 4 356587 11 356838 18 357089 25 357340 ..."
      ]
     },
     "execution_count": 39,
     "metadata": {},
     "output_type": "execute_result"
    }
   ],
   "source": [
    "non_unique_image_id = df.ImageId.value_counts()[df.ImageId.value_counts() > 1].index\n",
    "non_unique_image_df = non_df = df[df.ImageId.isin(non_unique_image_id)]\n",
    "non_unique_image_df.head()"
   ]
  },
  {
   "cell_type": "code",
   "execution_count": 58,
   "metadata": {},
   "outputs": [
    {
     "name": "stdout",
     "output_type": "stream",
     "text": [
      "Class ID meaning:\t\t{0: 'No Defects', 1: 'Type 1', 2: 'Type 2', 3: 'Type 3', 4: 'Type 4'}\n",
      "ClassID in non unique defects:\t[1, 2, 3, 4]\n",
      "Class Distribution:\t\t[128, 52, 391, 285]\n",
      "Class Relative Distribution:\t[0.15, 0.061, 0.457, 0.333]\n"
     ]
    }
   ],
   "source": [
    "non_class_dist = non_df.ClassId.value_counts().sort_index()\n",
    "relative_fr = [round(i, 3) for i in non_class_dist.values/non_class_dist.sum()]\n",
    "print('Class ID meaning:\\t\\t{}'.format(ClassId2ClassName))\n",
    "print('ClassID in non unique defects:\\t{}'.format(sorted(non_df.ClassId.unique())))\n",
    "print('Class Distribution:\\t\\t{}'.format(list(non_class_dist.values)))\n",
    "print('Class Relative Distribution:\\t{}'.format(relative_fr))"
   ]
  },
  {
   "cell_type": "code",
   "execution_count": 63,
   "metadata": {},
   "outputs": [
    {
     "data": {
      "image/png": "[encoded data removed]",
      "text/plain": [
       "<Figure size 1080x432 with 1 Axes>"
      ]
     },
     "metadata": {
      "needs_background": "light"
     },
     "output_type": "display_data"
    }
   ],
   "source": [
    "fig, ax = plt.subplots(1, 1, figsize = (15, 6))\n",
    "bar1 = ax.bar(list(ClassId2ClassName.values())[1:], non_class_dist/non_class_dist.sum(),\n",
    "         color=['cyan', 'red', 'green', 'blue'])\n",
    "ax.set_title('ClassID Distribution on images with more than one defects')\n",
    "ax.set_ylabel('Relative Frequency')\n",
    "ax.set_xlabel('ClassID')\n",
    "ax.grid()\n",
    "ax.set_ylim([0, 0.55])\n",
    "\n",
    "for i, rect in enumerate(bar1):\n",
    "    height = rect.get_height()\n",
    "    text = '{} ({:.3f})'.format(non_class_dist.values[i], height)\n",
    "    plt.text(rect.get_x() + rect.get_width()/2.0, height+0.003, text, ha='center', va='bottom')\n",
    "plt.show()"
   ]
  },
  {
   "cell_type": "code",
   "execution_count": 144,
   "metadata": {},
   "outputs": [
    {
     "name": "stderr",
     "output_type": "stream",
     "text": [
      "C:\\Users\\fgrim\\AppData\\Local\\Continuum\\anaconda3\\lib\\site-packages\\ipykernel_launcher.py:3: UserWarning: Boolean Series key will be reindexed to match DataFrame index.\n",
      "  This is separate from the ipykernel package so we can avoid doing imports until\n"
     ]
    },
    {
     "data": {
      "text/html": [
       "<div>\n",
       "<style scoped>\n",
       "    .dataframe tbody tr th:only-of-type {\n",
       "        vertical-align: middle;\n",
       "    }\n",
       "\n",
       "    .dataframe tbody tr th {\n",
       "        vertical-align: top;\n",
       "    }\n",
       "\n",
       "    .dataframe thead th {\n",
       "        text-align: right;\n",
       "    }\n",
       "</style>\n",
       "<table border=\"1\" class=\"dataframe\">\n",
       "  <thead>\n",
       "    <tr style=\"text-align: right;\">\n",
       "      <th></th>\n",
       "      <th>ImageId</th>\n",
       "      <th>ClassIds</th>\n",
       "    </tr>\n",
       "  </thead>\n",
       "  <tbody>\n",
       "    <tr>\n",
       "      <th>0</th>\n",
       "      <td>ef24da2ba.jpg</td>\n",
       "      <td>['1', '2', '3']</td>\n",
       "    </tr>\n",
       "    <tr>\n",
       "      <th>1</th>\n",
       "      <td>db4867ee8.jpg</td>\n",
       "      <td>['1', '2', '3']</td>\n",
       "    </tr>\n",
       "    <tr>\n",
       "      <th>2</th>\n",
       "      <td>bd967bd29.jpg</td>\n",
       "      <td>['3', '4']</td>\n",
       "    </tr>\n",
       "    <tr>\n",
       "      <th>3</th>\n",
       "      <td>8066b7589.jpg</td>\n",
       "      <td>['3', '4']</td>\n",
       "    </tr>\n",
       "    <tr>\n",
       "      <th>4</th>\n",
       "      <td>6d8835463.jpg</td>\n",
       "      <td>['3', '4']</td>\n",
       "    </tr>\n",
       "  </tbody>\n",
       "</table>\n",
       "</div>"
      ],
      "text/plain": [
       "         ImageId         ClassIds\n",
       "0  ef24da2ba.jpg  ['1', '2', '3']\n",
       "1  db4867ee8.jpg  ['1', '2', '3']\n",
       "2  bd967bd29.jpg       ['3', '4']\n",
       "3  8066b7589.jpg       ['3', '4']\n",
       "4  6d8835463.jpg       ['3', '4']"
      ]
     },
     "execution_count": 144,
     "metadata": {},
     "output_type": "execute_result"
    }
   ],
   "source": [
    "\n",
    "combo_defects = []\n",
    "for img in non_unique_image_id:\n",
    "    img_df = non_df[df.ImageId == img]\n",
    "    combo_defects.append(tuple([img, str(['{}'.format(i) for i in img_df.ClassId])]))\n",
    "grouped_non_df = gn_df = pd.DataFrame(combo_defects, columns = ['ImageId', 'ClassIds'])\n",
    "gn_df.head()"
   ]
  },
  {
   "cell_type": "code",
   "execution_count": 151,
   "metadata": {},
   "outputs": [
    {
     "name": "stdout",
     "output_type": "stream",
     "text": [
      "Type of co-occurance cases and their frequencies:\n",
      "{\"['1', '2', '3']\": 2, \"['3', '4']\": 284, \"['1', '3']\": 91, \"['2', '3']\": 14, \"['1', '2']\": 35, \"['2', '4']\": 1}\n"
     ]
    }
   ],
   "source": [
    "combo_types = gn_df.ClassIds.unique()\n",
    "combo_types_dict = {}\n",
    "for combo in combo_types:\n",
    "    combo_types_dict[combo] = gn_df[gn_df.ClassIds == combo].shape[0]\n",
    "print('Type of co-occurance cases and their frequencies:\\n{}'.format(combo_types_dict))"
   ]
  },
  {
   "cell_type": "code",
   "execution_count": 116,
   "metadata": {},
   "outputs": [
    {
     "data": {
      "image/png": "[encoded data removed]",
      "text/plain": [
       "<Figure size 1080x432 with 1 Axes>"
      ]
     },
     "metadata": {
      "needs_background": "light"
     },
     "output_type": "display_data"
    }
   ],
   "source": [
    "fig = plt.figure(figsize=(15, 6))\n",
    "plt.bar(combo_types_dict.keys(), combo_types_dict.values())\n",
    "plt.grid()\n",
    "plt.title('Distribution of type of co-occurance defects')\n",
    "plt.xlabel('Co-occurance cases')\n",
    "plt.ylabel('Frequency')\n",
    "plt.show()"
   ]
  },
  {
   "cell_type": "markdown",
   "metadata": {},
   "source": [
    "### Uniqueness data analysis"
   ]
  },
  {
   "cell_type": "code",
   "execution_count": 156,
   "metadata": {},
   "outputs": [
    {
     "data": {
      "text/html": [
       "<div>\n",
       "<style scoped>\n",
       "    .dataframe tbody tr th:only-of-type {\n",
       "        vertical-align: middle;\n",
       "    }\n",
       "\n",
       "    .dataframe tbody tr th {\n",
       "        vertical-align: top;\n",
       "    }\n",
       "\n",
       "    .dataframe thead th {\n",
       "        text-align: right;\n",
       "    }\n",
       "</style>\n",
       "<table border=\"1\" class=\"dataframe\">\n",
       "  <thead>\n",
       "    <tr style=\"text-align: right;\">\n",
       "      <th></th>\n",
       "      <th>ImageId</th>\n",
       "      <th>ClassId</th>\n",
       "      <th>EncodedPixels</th>\n",
       "    </tr>\n",
       "  </thead>\n",
       "  <tbody>\n",
       "    <tr>\n",
       "      <th>0</th>\n",
       "      <td>0002cc93b.jpg</td>\n",
       "      <td>1</td>\n",
       "      <td>29102 12 29346 24 29602 24 29858 24 30114 24 3...</td>\n",
       "    </tr>\n",
       "    <tr>\n",
       "      <th>1</th>\n",
       "      <td>0007a71bf.jpg</td>\n",
       "      <td>3</td>\n",
       "      <td>18661 28 18863 82 19091 110 19347 110 19603 11...</td>\n",
       "    </tr>\n",
       "    <tr>\n",
       "      <th>2</th>\n",
       "      <td>000a4bcdd.jpg</td>\n",
       "      <td>1</td>\n",
       "      <td>37607 3 37858 8 38108 14 38359 20 38610 25 388...</td>\n",
       "    </tr>\n",
       "    <tr>\n",
       "      <th>3</th>\n",
       "      <td>000f6bf48.jpg</td>\n",
       "      <td>4</td>\n",
       "      <td>131973 1 132228 4 132483 6 132738 8 132993 11 ...</td>\n",
       "    </tr>\n",
       "    <tr>\n",
       "      <th>4</th>\n",
       "      <td>0014fce06.jpg</td>\n",
       "      <td>3</td>\n",
       "      <td>229501 11 229741 33 229981 55 230221 77 230468...</td>\n",
       "    </tr>\n",
       "  </tbody>\n",
       "</table>\n",
       "</div>"
      ],
      "text/plain": [
       "         ImageId  ClassId                                      EncodedPixels\n",
       "0  0002cc93b.jpg        1  29102 12 29346 24 29602 24 29858 24 30114 24 3...\n",
       "1  0007a71bf.jpg        3  18661 28 18863 82 19091 110 19347 110 19603 11...\n",
       "2  000a4bcdd.jpg        1  37607 3 37858 8 38108 14 38359 20 38610 25 388...\n",
       "3  000f6bf48.jpg        4  131973 1 132228 4 132483 6 132738 8 132993 11 ...\n",
       "4  0014fce06.jpg        3  229501 11 229741 33 229981 55 230221 77 230468..."
      ]
     },
     "execution_count": 156,
     "metadata": {},
     "output_type": "execute_result"
    }
   ],
   "source": [
    "unique_image_id = df.ImageId.value_counts()[df.ImageId.value_counts() == 1].index\n",
    "unique_image_df = unique_df = df[df.ImageId.isin(unique_image_id)]\n",
    "unique_image_df.head()"
   ]
  },
  {
   "cell_type": "code",
   "execution_count": 157,
   "metadata": {},
   "outputs": [
    {
     "name": "stdout",
     "output_type": "stream",
     "text": [
      "Class ID meaning:\t\t{0: 'No Defects', 1: 'Type 1', 2: 'Type 2', 3: 'Type 3', 4: 'Type 4'}\n",
      "ClassID in non unique defects:\t[0, 1, 2, 3, 4]\n",
      "Class Distribution:\t\t[5902, 769, 195, 4759, 516]\n",
      "Class Relative Distribution:\t[0.486, 0.063, 0.016, 0.392, 0.043]\n"
     ]
    }
   ],
   "source": [
    "unique_class_dist = unique_df.ClassId.value_counts().sort_index()\n",
    "relative_fr = [round(i, 3) for i in unique_class_dist.values/unique_class_dist.sum()]\n",
    "print('Class ID meaning:\\t\\t{}'.format(ClassId2ClassName))\n",
    "print('ClassID in non unique defects:\\t{}'.format(sorted(unique_df.ClassId.unique())))\n",
    "print('Class Distribution:\\t\\t{}'.format(list(unique_class_dist.values)))\n",
    "print('Class Relative Distribution:\\t{}'.format(relative_fr))"
   ]
  },
  {
   "cell_type": "code",
   "execution_count": 162,
   "metadata": {},
   "outputs": [
    {
     "data": {
      "image/png": "[encoded data removed]",
      "text/plain": [
       "<Figure size 1080x432 with 1 Axes>"
      ]
     },
     "metadata": {
      "needs_background": "light"
     },
     "output_type": "display_data"
    }
   ],
   "source": [
    "fig, ax = plt.subplots(1, 1, figsize = (15, 6))\n",
    "bar1 = ax.bar(list(ClassId2ClassName.values()), unique_class_dist/unique_class_dist.sum(),\n",
    "         color=['steelblue', 'cyan', 'red', 'green', 'blue'])\n",
    "ax.set_title('ClassID Distribution on images with no more than one defects')\n",
    "ax.set_ylabel('Relative Frequency')\n",
    "ax.set_xlabel('ClassID')\n",
    "ax.grid()\n",
    "ax.set_ylim([0, 0.55])\n",
    "\n",
    "for i, rect in enumerate(bar1):\n",
    "    height = rect.get_height()\n",
    "    text = '{} ({:.3f})'.format(unique_class_dist.values[i], height)\n",
    "    plt.text(rect.get_x() + rect.get_width()/2.0, height+0.003, text, ha='center', va='bottom')\n",
    "plt.show()"
   ]
  },
  {
   "cell_type": "markdown",
   "metadata": {},
   "source": [
    "### Comparison"
   ]
  },
  {
   "cell_type": "code",
   "execution_count": 165,
   "metadata": {},
   "outputs": [
    {
     "data": {
      "image/png": "[encoded data removed]",
      "text/plain": [
       "<Figure size 1080x432 with 2 Axes>"
      ]
     },
     "metadata": {
      "needs_background": "light"
     },
     "output_type": "display_data"
    }
   ],
   "source": [
    "fig, ax = plt.subplots(1, 2, figsize = (15, 6))\n",
    "bar1 = ax[0].bar(ClassId2ClassName.values(), class_dist/class_dist.sum(),\n",
    "                 color=['steelblue', 'cyan', 'red', 'green', 'blue'])\n",
    "ax[0].set_title('ClassID Distribution')\n",
    "ax[0].set_ylabel('Relative Frequency')\n",
    "ax[0].set_xlabel('ClassID')\n",
    "ax[0].grid()\n",
    "ax[0].set_ylim([0, 0.55])\n",
    "\n",
    "for i, rect in enumerate(bar1):\n",
    "    height = rect.get_height()\n",
    "    text = '{} ({:.3f})'.format(class_dist.values[i], height)\n",
    "    ax[0].text(rect.get_x() + rect.get_width()/2.0, height+0.003, text, ha='center', va='bottom')\n",
    "\n",
    "bar2 = ax[1].bar(list(ClassId2ClassName.values()), unique_class_dist/unique_class_dist.sum(),\n",
    "         color=['steelblue', 'cyan', 'red', 'green', 'blue'])\n",
    "ax[1].set_title('ClassID Distribution on images with no more than one defects')\n",
    "ax[1].set_ylabel('Relative Frequency')\n",
    "ax[1].set_xlabel('ClassID')\n",
    "ax[1].grid()\n",
    "ax[1].set_ylim([0, 0.55])\n",
    "\n",
    "for i, rect in enumerate(bar2):\n",
    "    height = rect.get_height()\n",
    "    text = '{} ({:.3f})'.format(unique_class_dist.values[i], height)\n",
    "    plt.text(rect.get_x() + rect.get_width()/2.0, height+0.003, text, ha='center', va='bottom')\n",
    "plt.show()"
   ]
  }
 ],
 "metadata": {
  "kernelspec": {
   "display_name": "Python 3",
   "language": "python",
   "name": "python3"
  },
  "language_info": {
   "codemirror_mode": {
    "name": "ipython",
    "version": 3
   },
   "file_extension": ".py",
   "mimetype": "text/x-python",
   "name": "python",
   "nbconvert_exporter": "python",
   "pygments_lexer": "ipython3",
   "version": "3.6.8"
  }
 },
 "nbformat": 4,
 "nbformat_minor": 4
}
